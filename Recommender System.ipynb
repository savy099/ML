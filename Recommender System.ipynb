{
 "cells": [
  {
   "cell_type": "code",
   "execution_count": 1,
   "metadata": {},
   "outputs": [],
   "source": [
    "import pandas as pd\n",
    "import numpy as np"
   ]
  },
  {
   "cell_type": "code",
   "execution_count": 2,
   "metadata": {},
   "outputs": [],
   "source": [
    "df=pd.read_csv(r\"C:\\Users\\UpmanSa\\Downloads\\data (1)\\txn.csv\",sep=',',engine='python')"
   ]
  },
  {
   "cell_type": "code",
   "execution_count": 3,
   "metadata": {},
   "outputs": [],
   "source": [
    "import seaborn as sns\n",
    "import matplotlib.pyplot as plt\n",
    "sns.set(color_codes=True)\n",
    "%matplotlib inline"
   ]
  },
  {
   "cell_type": "code",
   "execution_count": 4,
   "metadata": {},
   "outputs": [
    {
     "data": {
      "text/html": [
       "<div>\n",
       "<style scoped>\n",
       "    .dataframe tbody tr th:only-of-type {\n",
       "        vertical-align: middle;\n",
       "    }\n",
       "\n",
       "    .dataframe tbody tr th {\n",
       "        vertical-align: top;\n",
       "    }\n",
       "\n",
       "    .dataframe thead th {\n",
       "        text-align: right;\n",
       "    }\n",
       "</style>\n",
       "<table border=\"1\" class=\"dataframe\">\n",
       "  <thead>\n",
       "    <tr style=\"text-align: right;\">\n",
       "      <th></th>\n",
       "      <th>CustomerId</th>\n",
       "      <th>CustomerEmailAddress</th>\n",
       "      <th>CustomerGender</th>\n",
       "      <th>CustomerAge</th>\n",
       "      <th>CustomerDeviceType</th>\n",
       "      <th>OrderId</th>\n",
       "      <th>OrderAmount</th>\n",
       "      <th>Product</th>\n",
       "      <th>OrderStatus</th>\n",
       "      <th>DeliveryPinCode</th>\n",
       "      <th>OrderPaymentMode</th>\n",
       "      <th>OrderDate</th>\n",
       "    </tr>\n",
       "  </thead>\n",
       "  <tbody>\n",
       "    <tr>\n",
       "      <td>0</td>\n",
       "      <td>Q8RV5E9KFX</td>\n",
       "      <td>bilhgbg@mail.com</td>\n",
       "      <td>Male</td>\n",
       "      <td>48</td>\n",
       "      <td>iOS</td>\n",
       "      <td>398629</td>\n",
       "      <td>10000</td>\n",
       "      <td>Google Home</td>\n",
       "      <td>Item Returned</td>\n",
       "      <td>560034</td>\n",
       "      <td>net_banking</td>\n",
       "      <td>NaN</td>\n",
       "    </tr>\n",
       "    <tr>\n",
       "      <td>1</td>\n",
       "      <td>Q8RV5E9KFX</td>\n",
       "      <td>bilhgbg@mail.com</td>\n",
       "      <td>Male</td>\n",
       "      <td>48</td>\n",
       "      <td>iOS</td>\n",
       "      <td>2593111</td>\n",
       "      <td>5000</td>\n",
       "      <td>Dreams11 Gift Card</td>\n",
       "      <td>Item Returned</td>\n",
       "      <td>110001</td>\n",
       "      <td>credit_card</td>\n",
       "      <td>NaN</td>\n",
       "    </tr>\n",
       "    <tr>\n",
       "      <td>2</td>\n",
       "      <td>Q8RV5E9KFX</td>\n",
       "      <td>bilhgbg@mail.com</td>\n",
       "      <td>Male</td>\n",
       "      <td>48</td>\n",
       "      <td>iOS</td>\n",
       "      <td>2244234</td>\n",
       "      <td>500</td>\n",
       "      <td>sleepers</td>\n",
       "      <td>Item Returned</td>\n",
       "      <td>400050</td>\n",
       "      <td>upi</td>\n",
       "      <td>NaN</td>\n",
       "    </tr>\n",
       "    <tr>\n",
       "      <td>3</td>\n",
       "      <td>Q8RV5E9KFX</td>\n",
       "      <td>bilhgbg@mail.com</td>\n",
       "      <td>Male</td>\n",
       "      <td>48</td>\n",
       "      <td>iOS</td>\n",
       "      <td>9622013</td>\n",
       "      <td>25000</td>\n",
       "      <td>Vedantu Gift Card</td>\n",
       "      <td>Delivered</td>\n",
       "      <td>110025</td>\n",
       "      <td>wallet</td>\n",
       "      <td>NaN</td>\n",
       "    </tr>\n",
       "    <tr>\n",
       "      <td>4</td>\n",
       "      <td>Q8RV5E9KFX</td>\n",
       "      <td>bilhgbg@mail.com</td>\n",
       "      <td>Male</td>\n",
       "      <td>48</td>\n",
       "      <td>iOS</td>\n",
       "      <td>8419436</td>\n",
       "      <td>5000</td>\n",
       "      <td>Sun Glasses</td>\n",
       "      <td>Item Returned</td>\n",
       "      <td>110025</td>\n",
       "      <td>credit_card</td>\n",
       "      <td>NaN</td>\n",
       "    </tr>\n",
       "    <tr>\n",
       "      <td>...</td>\n",
       "      <td>...</td>\n",
       "      <td>...</td>\n",
       "      <td>...</td>\n",
       "      <td>...</td>\n",
       "      <td>...</td>\n",
       "      <td>...</td>\n",
       "      <td>...</td>\n",
       "      <td>...</td>\n",
       "      <td>...</td>\n",
       "      <td>...</td>\n",
       "      <td>...</td>\n",
       "      <td>...</td>\n",
       "    </tr>\n",
       "    <tr>\n",
       "      <td>1754510</td>\n",
       "      <td>Y6BIVCODU7</td>\n",
       "      <td>jhiijkj@gmail.com</td>\n",
       "      <td>Male</td>\n",
       "      <td>26</td>\n",
       "      <td>Android</td>\n",
       "      <td>6198000</td>\n",
       "      <td>1000</td>\n",
       "      <td>ink pen</td>\n",
       "      <td>Payment Incomplete</td>\n",
       "      <td>560001</td>\n",
       "      <td>debit_card</td>\n",
       "      <td>NaN</td>\n",
       "    </tr>\n",
       "    <tr>\n",
       "      <td>1754511</td>\n",
       "      <td>Y6BIVCODU7</td>\n",
       "      <td>jhiijkj@gmail.com</td>\n",
       "      <td>Male</td>\n",
       "      <td>26</td>\n",
       "      <td>Android</td>\n",
       "      <td>7490043</td>\n",
       "      <td>1000</td>\n",
       "      <td>CultFit Voucher</td>\n",
       "      <td>Delivered</td>\n",
       "      <td>400050</td>\n",
       "      <td>debit_card</td>\n",
       "      <td>NaN</td>\n",
       "    </tr>\n",
       "    <tr>\n",
       "      <td>1754512</td>\n",
       "      <td>Y6BIVCODU7</td>\n",
       "      <td>jhiijkj@gmail.com</td>\n",
       "      <td>Male</td>\n",
       "      <td>26</td>\n",
       "      <td>Android</td>\n",
       "      <td>432313</td>\n",
       "      <td>75000</td>\n",
       "      <td>Wood Furniture</td>\n",
       "      <td>Item Returned</td>\n",
       "      <td>560102</td>\n",
       "      <td>net_banking</td>\n",
       "      <td>NaN</td>\n",
       "    </tr>\n",
       "    <tr>\n",
       "      <td>1754513</td>\n",
       "      <td>Y6BIVCODU7</td>\n",
       "      <td>jhiijkj@gmail.com</td>\n",
       "      <td>Male</td>\n",
       "      <td>26</td>\n",
       "      <td>Android</td>\n",
       "      <td>8881802</td>\n",
       "      <td>7000</td>\n",
       "      <td>Router</td>\n",
       "      <td>Delivered</td>\n",
       "      <td>400038</td>\n",
       "      <td>net_banking</td>\n",
       "      <td>NaN</td>\n",
       "    </tr>\n",
       "    <tr>\n",
       "      <td>1754514</td>\n",
       "      <td>Y6BIVCODU7</td>\n",
       "      <td>jhiijkj@gmail.com</td>\n",
       "      <td>Male</td>\n",
       "      <td>26</td>\n",
       "      <td>Android</td>\n",
       "      <td>502102</td>\n",
       "      <td>200</td>\n",
       "      <td>shaving cream</td>\n",
       "      <td>Delivered</td>\n",
       "      <td>400038</td>\n",
       "      <td>debit_card</td>\n",
       "      <td>NaN</td>\n",
       "    </tr>\n",
       "  </tbody>\n",
       "</table>\n",
       "<p>1754515 rows × 12 columns</p>\n",
       "</div>"
      ],
      "text/plain": [
       "         CustomerId CustomerEmailAddress CustomerGender  CustomerAge  \\\n",
       "0        Q8RV5E9KFX     bilhgbg@mail.com           Male           48   \n",
       "1        Q8RV5E9KFX     bilhgbg@mail.com           Male           48   \n",
       "2        Q8RV5E9KFX     bilhgbg@mail.com           Male           48   \n",
       "3        Q8RV5E9KFX     bilhgbg@mail.com           Male           48   \n",
       "4        Q8RV5E9KFX     bilhgbg@mail.com           Male           48   \n",
       "...             ...                  ...            ...          ...   \n",
       "1754510  Y6BIVCODU7    jhiijkj@gmail.com           Male           26   \n",
       "1754511  Y6BIVCODU7    jhiijkj@gmail.com           Male           26   \n",
       "1754512  Y6BIVCODU7    jhiijkj@gmail.com           Male           26   \n",
       "1754513  Y6BIVCODU7    jhiijkj@gmail.com           Male           26   \n",
       "1754514  Y6BIVCODU7    jhiijkj@gmail.com           Male           26   \n",
       "\n",
       "        CustomerDeviceType  OrderId  OrderAmount             Product  \\\n",
       "0                      iOS   398629        10000         Google Home   \n",
       "1                      iOS  2593111         5000  Dreams11 Gift Card   \n",
       "2                      iOS  2244234          500            sleepers   \n",
       "3                      iOS  9622013        25000   Vedantu Gift Card   \n",
       "4                      iOS  8419436         5000         Sun Glasses   \n",
       "...                    ...      ...          ...                 ...   \n",
       "1754510            Android  6198000         1000             ink pen   \n",
       "1754511            Android  7490043         1000     CultFit Voucher   \n",
       "1754512            Android   432313        75000      Wood Furniture   \n",
       "1754513            Android  8881802         7000              Router   \n",
       "1754514            Android   502102          200       shaving cream   \n",
       "\n",
       "                OrderStatus  DeliveryPinCode OrderPaymentMode  OrderDate  \n",
       "0             Item Returned           560034      net_banking        NaN  \n",
       "1             Item Returned           110001      credit_card        NaN  \n",
       "2             Item Returned           400050              upi        NaN  \n",
       "3                 Delivered           110025           wallet        NaN  \n",
       "4             Item Returned           110025      credit_card        NaN  \n",
       "...                     ...              ...              ...        ...  \n",
       "1754510  Payment Incomplete           560001       debit_card        NaN  \n",
       "1754511           Delivered           400050       debit_card        NaN  \n",
       "1754512       Item Returned           560102      net_banking        NaN  \n",
       "1754513           Delivered           400038      net_banking        NaN  \n",
       "1754514           Delivered           400038       debit_card        NaN  \n",
       "\n",
       "[1754515 rows x 12 columns]"
      ]
     },
     "execution_count": 4,
     "metadata": {},
     "output_type": "execute_result"
    }
   ],
   "source": [
    "df"
   ]
  },
  {
   "cell_type": "markdown",
   "metadata": {},
   "source": [
    "# Analysis of data and Key findings:"
   ]
  },
  {
   "cell_type": "markdown",
   "metadata": {},
   "source": [
    "Total number of rows 1754515 and 12 columns"
   ]
  },
  {
   "cell_type": "code",
   "execution_count": 5,
   "metadata": {},
   "outputs": [
    {
     "data": {
      "text/plain": [
       "(1754515, 12)"
      ]
     },
     "execution_count": 5,
     "metadata": {},
     "output_type": "execute_result"
    }
   ],
   "source": [
    "df.shape"
   ]
  },
  {
   "cell_type": "markdown",
   "metadata": {},
   "source": [
    "There are 4 devices/operating system types from which cutomers are ordering : Linux , Andriod , Andriod , ios, Windows  \n",
    "we can say that cutomers are ordering from iPhones,Andriod phones and laptops(linux and windows). And the number of orders placed from various devices are almost same."
   ]
  },
  {
   "cell_type": "code",
   "execution_count": 6,
   "metadata": {},
   "outputs": [
    {
     "data": {
      "text/plain": [
       "Linux      440730\n",
       "Android    440655\n",
       "iOS        436595\n",
       "Windows    436535\n",
       "Name: CustomerDeviceType, dtype: int64"
      ]
     },
     "execution_count": 6,
     "metadata": {},
     "output_type": "execute_result"
    }
   ],
   "source": [
    "df['CustomerDeviceType'].value_counts()"
   ]
  },
  {
   "cell_type": "markdown",
   "metadata": {},
   "source": [
    "79 distinct products "
   ]
  },
  {
   "cell_type": "code",
   "execution_count": 7,
   "metadata": {},
   "outputs": [
    {
     "data": {
      "text/plain": [
       "Usb Stick              43723\n",
       "Smart Lights           22240\n",
       "passport bag           22199\n",
       "Kindle                 22196\n",
       "Router                 22140\n",
       "                       ...  \n",
       "shaving cream          21703\n",
       "Hotel Taj Gift Card    21683\n",
       "Sun Glasses            21678\n",
       "Diamond Jewellery      21652\n",
       "formal shoes           21639\n",
       "Name: Product, Length: 79, dtype: int64"
      ]
     },
     "execution_count": 7,
     "metadata": {},
     "output_type": "execute_result"
    }
   ],
   "source": [
    "df['Product'].value_counts()"
   ]
  },
  {
   "cell_type": "markdown",
   "metadata": {},
   "source": [
    "By looking the min and max of the Product price we can say the the price range is 200 to 100000"
   ]
  },
  {
   "cell_type": "code",
   "execution_count": 8,
   "metadata": {},
   "outputs": [
    {
     "data": {
      "text/plain": [
       "100000"
      ]
     },
     "execution_count": 8,
     "metadata": {},
     "output_type": "execute_result"
    }
   ],
   "source": [
    "df['OrderAmount'].max()"
   ]
  },
  {
   "cell_type": "code",
   "execution_count": 9,
   "metadata": {},
   "outputs": [
    {
     "data": {
      "text/plain": [
       "200"
      ]
     },
     "execution_count": 9,
     "metadata": {},
     "output_type": "execute_result"
    }
   ],
   "source": [
    "df['OrderAmount'].min()"
   ]
  },
  {
   "cell_type": "markdown",
   "metadata": {},
   "source": [
    "There are significant number of Products with Price=5000"
   ]
  },
  {
   "cell_type": "code",
   "execution_count": 10,
   "metadata": {},
   "outputs": [
    {
     "data": {
      "text/plain": [
       "0    5000\n",
       "dtype: int64"
      ]
     },
     "execution_count": 10,
     "metadata": {},
     "output_type": "execute_result"
    }
   ],
   "source": [
    "df['OrderAmount'].mode()"
   ]
  },
  {
   "cell_type": "code",
   "execution_count": 11,
   "metadata": {},
   "outputs": [
    {
     "data": {
      "image/png": "[encoded data removed]",
      "text/plain": [
       "<Figure size 432x288 with 1 Axes>"
      ]
     },
     "metadata": {
      "needs_background": "light"
     },
     "output_type": "display_data"
    }
   ],
   "source": [
    "sns.distplot(df['OrderAmount'])\n",
    "plt.show()"
   ]
  },
  {
   "cell_type": "markdown",
   "metadata": {},
   "source": [
    "Customer age range is 20 to 48 years , it signifies that customers are Adults and belongs to mature group (young to mid aged)\n",
    ".Lot of cutomers are young with Age around 22 to 30 yrs(by seeing at mode and value count)"
   ]
  },
  {
   "cell_type": "code",
   "execution_count": 12,
   "metadata": {},
   "outputs": [
    {
     "data": {
      "text/plain": [
       "48"
      ]
     },
     "execution_count": 12,
     "metadata": {},
     "output_type": "execute_result"
    }
   ],
   "source": [
    "df['CustomerAge'].max()"
   ]
  },
  {
   "cell_type": "code",
   "execution_count": 13,
   "metadata": {},
   "outputs": [
    {
     "data": {
      "text/plain": [
       "20"
      ]
     },
     "execution_count": 13,
     "metadata": {},
     "output_type": "execute_result"
    }
   ],
   "source": [
    "df['CustomerAge'].min()"
   ]
  },
  {
   "cell_type": "code",
   "execution_count": 14,
   "metadata": {},
   "outputs": [
    {
     "data": {
      "text/plain": [
       "0    22\n",
       "dtype: int64"
      ]
     },
     "execution_count": 14,
     "metadata": {},
     "output_type": "execute_result"
    }
   ],
   "source": [
    "df['CustomerAge'].mode()"
   ]
  },
  {
   "cell_type": "code",
   "execution_count": 15,
   "metadata": {},
   "outputs": [
    {
     "data": {
      "text/plain": [
       "22    120875\n",
       "38    118285\n",
       "46    117600\n",
       "36    117565\n",
       "42    117425\n",
       "34    117355\n",
       "40    117265\n",
       "48    117235\n",
       "20    117145\n",
       "30    116960\n",
       "26    116460\n",
       "32    116320\n",
       "24    115330\n",
       "44    114355\n",
       "28    114340\n",
       "Name: CustomerAge, dtype: int64"
      ]
     },
     "execution_count": 15,
     "metadata": {},
     "output_type": "execute_result"
    }
   ],
   "source": [
    "df['CustomerAge'].value_counts()"
   ]
  },
  {
   "cell_type": "markdown",
   "metadata": {},
   "source": [
    "Gender : Both Male and Female customers are almost same in number. Gender gap is not there !"
   ]
  },
  {
   "cell_type": "code",
   "execution_count": 16,
   "metadata": {},
   "outputs": [
    {
     "data": {
      "text/plain": [
       "Male      877840\n",
       "Female    876675\n",
       "Name: CustomerGender, dtype: int64"
      ]
     },
     "execution_count": 16,
     "metadata": {},
     "output_type": "execute_result"
    }
   ],
   "source": [
    "df['CustomerGender'].value_counts()"
   ]
  },
  {
   "cell_type": "code",
   "execution_count": 17,
   "metadata": {},
   "outputs": [],
   "source": [
    "#counts = df['CustomerGender'].value_counts().plot.bar()\n",
    "#counts.plot()"
   ]
  },
  {
   "cell_type": "code",
   "execution_count": 18,
   "metadata": {},
   "outputs": [
    {
     "data": {
      "text/plain": [
       "<matplotlib.axes._subplots.AxesSubplot at 0x2bbfd63b908>"
      ]
     },
     "execution_count": 18,
     "metadata": {},
     "output_type": "execute_result"
    },
    {
     "data": {
      "image/png": "[encoded data removed]",
      "text/plain": [
       "<Figure size 432x288 with 1 Axes>"
      ]
     },
     "metadata": {
      "needs_background": "light"
     },
     "output_type": "display_data"
    }
   ],
   "source": [
    "sns.stripplot(df['CustomerGender'], df['CustomerAge'], jitter = True)"
   ]
  },
  {
   "cell_type": "markdown",
   "metadata": {},
   "source": [
    "1 lakh of distinct users/customers and 99972 distinct email id's : It signifies that 2 Customers could have same email id for ordering the Products. These 2 Customers could be of different Gender using same email id but different CustomerId."
   ]
  },
  {
   "cell_type": "code",
   "execution_count": 19,
   "metadata": {},
   "outputs": [
    {
     "data": {
      "text/plain": [
       "JBI7QLPYOA    30\n",
       "T0V3Y5L2K1    30\n",
       "1Y3UQHMVES    30\n",
       "MBU5NZ8TP1    30\n",
       "MWK7JU2B6T    30\n",
       "              ..\n",
       "426RDCB1IA     5\n",
       "97IUZTGMJ8     5\n",
       "H0JRVL6UXI     5\n",
       "ROBZ73YNK2     5\n",
       "64XH2EQ5WP     5\n",
       "Name: CustomerId, Length: 100000, dtype: int64"
      ]
     },
     "execution_count": 19,
     "metadata": {},
     "output_type": "execute_result"
    }
   ],
   "source": [
    "df['CustomerId'].value_counts()"
   ]
  },
  {
   "cell_type": "code",
   "execution_count": 20,
   "metadata": {},
   "outputs": [
    {
     "data": {
      "text/plain": [
       "kekkfii@yahoo.com         50\n",
       "ekehhlc@gmail.com         50\n",
       "bjljedb@hotmail.com       45\n",
       "kddjckg@protonmail.com    45\n",
       "ligelfl@protonmail.com    45\n",
       "                          ..\n",
       "hgcceaf@gmail.com          5\n",
       "ilecihg@protonmail.com     5\n",
       "ejfkijl@protonmail.com     5\n",
       "jafakef@yahoo.com          5\n",
       "dabgkcl@gmail.com          5\n",
       "Name: CustomerEmailAddress, Length: 99972, dtype: int64"
      ]
     },
     "execution_count": 20,
     "metadata": {},
     "output_type": "execute_result"
    }
   ],
   "source": [
    "df['CustomerEmailAddress'].value_counts()"
   ]
  },
  {
   "cell_type": "markdown",
   "metadata": {},
   "source": [
    "#Orders are being cancelled , returned and returned more than it was delivered. \n",
    "#The organization must ork on payment gatways to avoid payment failure. At the same time they must work on reasons\n",
    "for order cancellation and item return. If we solve the payment problem it will most likly to solve the order cancellation\n",
    "issue."
   ]
  },
  {
   "cell_type": "code",
   "execution_count": 21,
   "metadata": {},
   "outputs": [
    {
     "data": {
      "text/plain": [
       "Order Cancelled       439274\n",
       "Payment Incomplete    439197\n",
       "Item Returned         438335\n",
       "Delivered             437709\n",
       "Name: OrderStatus, dtype: int64"
      ]
     },
     "execution_count": 21,
     "metadata": {},
     "output_type": "execute_result"
    }
   ],
   "source": [
    "df['OrderStatus'].value_counts()"
   ]
  },
  {
   "cell_type": "markdown",
   "metadata": {},
   "source": [
    "#All the payments are online and hence it could be rewarding for Customers,organization , Bank and third party who is handeling the rewards and redemptions.\n",
    "#The payments done from Debit and credit cards are significant. Organization can work on reward card specific to their organization(Ex: ICICI Amazon card, HDFC filkart card etc )"
   ]
  },
  {
   "cell_type": "code",
   "execution_count": 22,
   "metadata": {},
   "outputs": [
    {
     "data": {
      "text/plain": [
       "debit_card     351549\n",
       "net_banking    351181\n",
       "wallet         350922\n",
       "upi            350435\n",
       "credit_card    350428\n",
       "Name: OrderPaymentMode, dtype: int64"
      ]
     },
     "execution_count": 22,
     "metadata": {},
     "output_type": "execute_result"
    }
   ],
   "source": [
    "df['OrderPaymentMode'].value_counts()"
   ]
  },
  {
   "cell_type": "code",
   "execution_count": 23,
   "metadata": {},
   "outputs": [],
   "source": [
    "#sns.stripplot(df['CustomerGender'], df['OrderPaymentMode'], jitter = True)"
   ]
  },
  {
   "cell_type": "markdown",
   "metadata": {},
   "source": [
    "All the products have been ordered from 9 different locations. And it seems from 3 cities/sub areas as the 3 pincodes \n",
    "starts with '4000' , 3 starts with '1100' and other 3 starts with '560' , that means these grp of 3 belongs to same location\n",
    "near to each other."
   ]
  },
  {
   "cell_type": "code",
   "execution_count": 24,
   "metadata": {},
   "outputs": [
    {
     "data": {
      "text/plain": [
       "400038    195313\n",
       "400049    195264\n",
       "110001    195222\n",
       "110016    195125\n",
       "560034    195105\n",
       "560001    194812\n",
       "560102    194605\n",
       "110025    194555\n",
       "400050    194514\n",
       "Name: DeliveryPinCode, dtype: int64"
      ]
     },
     "execution_count": 24,
     "metadata": {},
     "output_type": "execute_result"
    }
   ],
   "source": [
    "df['DeliveryPinCode'].value_counts()"
   ]
  },
  {
   "cell_type": "code",
   "execution_count": 25,
   "metadata": {},
   "outputs": [
    {
     "data": {
      "text/plain": [
       "<matplotlib.axes._subplots.AxesSubplot at 0x2bbfd6a9a48>"
      ]
     },
     "execution_count": 25,
     "metadata": {},
     "output_type": "execute_result"
    },
    {
     "data": {
      "image/png": "[encoded data removed]",
      "text/plain": [
       "<Figure size 432x288 with 1 Axes>"
      ]
     },
     "metadata": {
      "needs_background": "light"
     },
     "output_type": "display_data"
    }
   ],
   "source": [
    "sns.stripplot(df['CustomerGender'], df['DeliveryPinCode'], jitter = True)"
   ]
  },
  {
   "cell_type": "markdown",
   "metadata": {},
   "source": [
    "Male and Female order pattern is very symmetric as we can see below table male and female have one equally significant\n",
    "ordering from each 9 locations."
   ]
  },
  {
   "cell_type": "code",
   "execution_count": 26,
   "metadata": {},
   "outputs": [
    {
     "data": {
      "text/html": [
       "<div>\n",
       "<style scoped>\n",
       "    .dataframe tbody tr th:only-of-type {\n",
       "        vertical-align: middle;\n",
       "    }\n",
       "\n",
       "    .dataframe tbody tr th {\n",
       "        vertical-align: top;\n",
       "    }\n",
       "\n",
       "    .dataframe thead th {\n",
       "        text-align: right;\n",
       "    }\n",
       "</style>\n",
       "<table border=\"1\" class=\"dataframe\">\n",
       "  <thead>\n",
       "    <tr style=\"text-align: right;\">\n",
       "      <th>DeliveryPinCode</th>\n",
       "      <th>110001</th>\n",
       "      <th>110016</th>\n",
       "      <th>110025</th>\n",
       "      <th>400038</th>\n",
       "      <th>400049</th>\n",
       "      <th>400050</th>\n",
       "      <th>560001</th>\n",
       "      <th>560034</th>\n",
       "      <th>560102</th>\n",
       "    </tr>\n",
       "    <tr>\n",
       "      <th>CustomerGender</th>\n",
       "      <th></th>\n",
       "      <th></th>\n",
       "      <th></th>\n",
       "      <th></th>\n",
       "      <th></th>\n",
       "      <th></th>\n",
       "      <th></th>\n",
       "      <th></th>\n",
       "      <th></th>\n",
       "    </tr>\n",
       "  </thead>\n",
       "  <tbody>\n",
       "    <tr>\n",
       "      <td>Female</td>\n",
       "      <td>97306</td>\n",
       "      <td>97866</td>\n",
       "      <td>97106</td>\n",
       "      <td>97427</td>\n",
       "      <td>97415</td>\n",
       "      <td>97474</td>\n",
       "      <td>97173</td>\n",
       "      <td>97422</td>\n",
       "      <td>97486</td>\n",
       "    </tr>\n",
       "    <tr>\n",
       "      <td>Male</td>\n",
       "      <td>97916</td>\n",
       "      <td>97259</td>\n",
       "      <td>97449</td>\n",
       "      <td>97886</td>\n",
       "      <td>97849</td>\n",
       "      <td>97040</td>\n",
       "      <td>97639</td>\n",
       "      <td>97683</td>\n",
       "      <td>97119</td>\n",
       "    </tr>\n",
       "  </tbody>\n",
       "</table>\n",
       "</div>"
      ],
      "text/plain": [
       "DeliveryPinCode  110001  110016  110025  400038  400049  400050  560001  \\\n",
       "CustomerGender                                                            \n",
       "Female            97306   97866   97106   97427   97415   97474   97173   \n",
       "Male              97916   97259   97449   97886   97849   97040   97639   \n",
       "\n",
       "DeliveryPinCode  560034  560102  \n",
       "CustomerGender                   \n",
       "Female            97422   97486  \n",
       "Male              97683   97119  "
      ]
     },
     "execution_count": 26,
     "metadata": {},
     "output_type": "execute_result"
    }
   ],
   "source": [
    "df.pivot_table(values='Product', index = 'CustomerGender',columns= 'DeliveryPinCode', aggfunc= 'count')"
   ]
  },
  {
   "cell_type": "code",
   "execution_count": 27,
   "metadata": {},
   "outputs": [
    {
     "data": {
      "text/html": [
       "<div>\n",
       "<style scoped>\n",
       "    .dataframe tbody tr th:only-of-type {\n",
       "        vertical-align: middle;\n",
       "    }\n",
       "\n",
       "    .dataframe tbody tr th {\n",
       "        vertical-align: top;\n",
       "    }\n",
       "\n",
       "    .dataframe thead th {\n",
       "        text-align: right;\n",
       "    }\n",
       "</style>\n",
       "<table border=\"1\" class=\"dataframe\">\n",
       "  <thead>\n",
       "    <tr style=\"text-align: right;\">\n",
       "      <th>OrderPaymentMode</th>\n",
       "      <th>credit_card</th>\n",
       "      <th>debit_card</th>\n",
       "      <th>net_banking</th>\n",
       "      <th>upi</th>\n",
       "      <th>wallet</th>\n",
       "    </tr>\n",
       "    <tr>\n",
       "      <th>CustomerGender</th>\n",
       "      <th></th>\n",
       "      <th></th>\n",
       "      <th></th>\n",
       "      <th></th>\n",
       "      <th></th>\n",
       "    </tr>\n",
       "  </thead>\n",
       "  <tbody>\n",
       "    <tr>\n",
       "      <td>Female</td>\n",
       "      <td>175475</td>\n",
       "      <td>175399</td>\n",
       "      <td>175368</td>\n",
       "      <td>175028</td>\n",
       "      <td>175405</td>\n",
       "    </tr>\n",
       "    <tr>\n",
       "      <td>Male</td>\n",
       "      <td>174953</td>\n",
       "      <td>176150</td>\n",
       "      <td>175813</td>\n",
       "      <td>175407</td>\n",
       "      <td>175517</td>\n",
       "    </tr>\n",
       "  </tbody>\n",
       "</table>\n",
       "</div>"
      ],
      "text/plain": [
       "OrderPaymentMode  credit_card  debit_card  net_banking     upi  wallet\n",
       "CustomerGender                                                        \n",
       "Female                 175475      175399       175368  175028  175405\n",
       "Male                   174953      176150       175813  175407  175517"
      ]
     },
     "execution_count": 27,
     "metadata": {},
     "output_type": "execute_result"
    }
   ],
   "source": [
    "df.pivot_table(values='Product', index = 'CustomerGender',columns= 'OrderPaymentMode', aggfunc= 'count')"
   ]
  },
  {
   "cell_type": "markdown",
   "metadata": {},
   "source": [
    "All the payment modes are equally popular amongest Male and Female in all the pincodes"
   ]
  },
  {
   "cell_type": "code",
   "execution_count": 28,
   "metadata": {},
   "outputs": [
    {
     "data": {
      "text/html": [
       "<div>\n",
       "<style scoped>\n",
       "    .dataframe tbody tr th:only-of-type {\n",
       "        vertical-align: middle;\n",
       "    }\n",
       "\n",
       "    .dataframe tbody tr th {\n",
       "        vertical-align: top;\n",
       "    }\n",
       "\n",
       "    .dataframe thead th {\n",
       "        text-align: right;\n",
       "    }\n",
       "</style>\n",
       "<table border=\"1\" class=\"dataframe\">\n",
       "  <thead>\n",
       "    <tr style=\"text-align: right;\">\n",
       "      <th>CustomerGender</th>\n",
       "      <th>Female</th>\n",
       "      <th>Male</th>\n",
       "    </tr>\n",
       "    <tr>\n",
       "      <th>OrderPaymentMode</th>\n",
       "      <th></th>\n",
       "      <th></th>\n",
       "    </tr>\n",
       "  </thead>\n",
       "  <tbody>\n",
       "    <tr>\n",
       "      <td>credit_card</td>\n",
       "      <td>175475</td>\n",
       "      <td>174953</td>\n",
       "    </tr>\n",
       "    <tr>\n",
       "      <td>debit_card</td>\n",
       "      <td>175399</td>\n",
       "      <td>176150</td>\n",
       "    </tr>\n",
       "    <tr>\n",
       "      <td>net_banking</td>\n",
       "      <td>175368</td>\n",
       "      <td>175813</td>\n",
       "    </tr>\n",
       "    <tr>\n",
       "      <td>upi</td>\n",
       "      <td>175028</td>\n",
       "      <td>175407</td>\n",
       "    </tr>\n",
       "    <tr>\n",
       "      <td>wallet</td>\n",
       "      <td>175405</td>\n",
       "      <td>175517</td>\n",
       "    </tr>\n",
       "  </tbody>\n",
       "</table>\n",
       "</div>"
      ],
      "text/plain": [
       "CustomerGender    Female    Male\n",
       "OrderPaymentMode                \n",
       "credit_card       175475  174953\n",
       "debit_card        175399  176150\n",
       "net_banking       175368  175813\n",
       "upi               175028  175407\n",
       "wallet            175405  175517"
      ]
     },
     "execution_count": 28,
     "metadata": {},
     "output_type": "execute_result"
    }
   ],
   "source": [
    "df.pivot_table(values='Product', index = 'OrderPaymentMode',columns= 'CustomerGender', aggfunc= 'count')"
   ]
  },
  {
   "cell_type": "code",
   "execution_count": 29,
   "metadata": {},
   "outputs": [
    {
     "data": {
      "text/plain": [
       "<matplotlib.axes._subplots.AxesSubplot at 0x2bbfd6234c8>"
      ]
     },
     "execution_count": 29,
     "metadata": {},
     "output_type": "execute_result"
    },
    {
     "data": {
      "image/png": "[encoded data removed]",
      "text/plain": [
       "<Figure size 432x288 with 1 Axes>"
      ]
     },
     "metadata": {
      "needs_background": "light"
     },
     "output_type": "display_data"
    }
   ],
   "source": [
    "sns.stripplot(df['CustomerGender'], df['OrderAmount'], jitter = True)"
   ]
  },
  {
   "cell_type": "markdown",
   "metadata": {},
   "source": [
    "All the Products are brought symmetrically. It means all the products are popular in users and to the Male and Female"
   ]
  },
  {
   "cell_type": "code",
   "execution_count": 30,
   "metadata": {},
   "outputs": [
    {
     "data": {
      "text/html": [
       "<div>\n",
       "<style scoped>\n",
       "    .dataframe tbody tr th:only-of-type {\n",
       "        vertical-align: middle;\n",
       "    }\n",
       "\n",
       "    .dataframe tbody tr th {\n",
       "        vertical-align: top;\n",
       "    }\n",
       "\n",
       "    .dataframe thead th {\n",
       "        text-align: right;\n",
       "    }\n",
       "</style>\n",
       "<table border=\"1\" class=\"dataframe\">\n",
       "  <thead>\n",
       "    <tr style=\"text-align: right;\">\n",
       "      <th>CustomerGender</th>\n",
       "      <th>Female</th>\n",
       "      <th>Male</th>\n",
       "    </tr>\n",
       "    <tr>\n",
       "      <th>Product</th>\n",
       "      <th></th>\n",
       "      <th></th>\n",
       "    </tr>\n",
       "  </thead>\n",
       "  <tbody>\n",
       "    <tr>\n",
       "      <td>Agoda Voucher</td>\n",
       "      <td>11007</td>\n",
       "      <td>11078</td>\n",
       "    </tr>\n",
       "    <tr>\n",
       "      <td>Alexa</td>\n",
       "      <td>10976</td>\n",
       "      <td>10955</td>\n",
       "    </tr>\n",
       "    <tr>\n",
       "      <td>Bharat Petroleum Voucher</td>\n",
       "      <td>11012</td>\n",
       "      <td>10884</td>\n",
       "    </tr>\n",
       "    <tr>\n",
       "      <td>BookMyShow Gift Card</td>\n",
       "      <td>11041</td>\n",
       "      <td>10927</td>\n",
       "    </tr>\n",
       "    <tr>\n",
       "      <td>Byju Gift Card</td>\n",
       "      <td>10913</td>\n",
       "      <td>11113</td>\n",
       "    </tr>\n",
       "    <tr>\n",
       "      <td>...</td>\n",
       "      <td>...</td>\n",
       "      <td>...</td>\n",
       "    </tr>\n",
       "    <tr>\n",
       "      <td>trouser</td>\n",
       "      <td>10950</td>\n",
       "      <td>10857</td>\n",
       "    </tr>\n",
       "    <tr>\n",
       "      <td>tshirt</td>\n",
       "      <td>11112</td>\n",
       "      <td>10978</td>\n",
       "    </tr>\n",
       "    <tr>\n",
       "      <td>usb cable</td>\n",
       "      <td>10979</td>\n",
       "      <td>11031</td>\n",
       "    </tr>\n",
       "    <tr>\n",
       "      <td>vest</td>\n",
       "      <td>10996</td>\n",
       "      <td>10864</td>\n",
       "    </tr>\n",
       "    <tr>\n",
       "      <td>watch</td>\n",
       "      <td>10876</td>\n",
       "      <td>10922</td>\n",
       "    </tr>\n",
       "  </tbody>\n",
       "</table>\n",
       "<p>79 rows × 2 columns</p>\n",
       "</div>"
      ],
      "text/plain": [
       "CustomerGender            Female   Male\n",
       "Product                                \n",
       "Agoda Voucher              11007  11078\n",
       "Alexa                      10976  10955\n",
       "Bharat Petroleum Voucher   11012  10884\n",
       "BookMyShow Gift Card       11041  10927\n",
       "Byju Gift Card             10913  11113\n",
       "...                          ...    ...\n",
       "trouser                    10950  10857\n",
       "tshirt                     11112  10978\n",
       "usb cable                  10979  11031\n",
       "vest                       10996  10864\n",
       "watch                      10876  10922\n",
       "\n",
       "[79 rows x 2 columns]"
      ]
     },
     "execution_count": 30,
     "metadata": {},
     "output_type": "execute_result"
    }
   ],
   "source": [
    "df.pivot_table(values='CustomerId', index = 'Product',columns= 'CustomerGender', aggfunc= 'count')"
   ]
  },
  {
   "cell_type": "code",
   "execution_count": 31,
   "metadata": {},
   "outputs": [
    {
     "data": {
      "text/html": [
       "<div>\n",
       "<style scoped>\n",
       "    .dataframe tbody tr th:only-of-type {\n",
       "        vertical-align: middle;\n",
       "    }\n",
       "\n",
       "    .dataframe tbody tr th {\n",
       "        vertical-align: top;\n",
       "    }\n",
       "\n",
       "    .dataframe thead th {\n",
       "        text-align: right;\n",
       "    }\n",
       "</style>\n",
       "<table border=\"1\" class=\"dataframe\">\n",
       "  <thead>\n",
       "    <tr style=\"text-align: right;\">\n",
       "      <th>Product</th>\n",
       "      <th>Agoda Voucher</th>\n",
       "      <th>Alexa</th>\n",
       "      <th>Bharat Petroleum Voucher</th>\n",
       "      <th>BookMyShow Gift Card</th>\n",
       "      <th>Byju Gift Card</th>\n",
       "      <th>ClearTrip Voucher</th>\n",
       "      <th>CultFit Voucher</th>\n",
       "      <th>Diamond Jewellery</th>\n",
       "      <th>Dreams11 Gift Card</th>\n",
       "      <th>Exotic Tea</th>\n",
       "      <th>...</th>\n",
       "      <th>shirt</th>\n",
       "      <th>skirt</th>\n",
       "      <th>sleepers</th>\n",
       "      <th>tablet</th>\n",
       "      <th>travellers bag</th>\n",
       "      <th>trouser</th>\n",
       "      <th>tshirt</th>\n",
       "      <th>usb cable</th>\n",
       "      <th>vest</th>\n",
       "      <th>watch</th>\n",
       "    </tr>\n",
       "    <tr>\n",
       "      <th>CustomerGender</th>\n",
       "      <th></th>\n",
       "      <th></th>\n",
       "      <th></th>\n",
       "      <th></th>\n",
       "      <th></th>\n",
       "      <th></th>\n",
       "      <th></th>\n",
       "      <th></th>\n",
       "      <th></th>\n",
       "      <th></th>\n",
       "      <th></th>\n",
       "      <th></th>\n",
       "      <th></th>\n",
       "      <th></th>\n",
       "      <th></th>\n",
       "      <th></th>\n",
       "      <th></th>\n",
       "      <th></th>\n",
       "      <th></th>\n",
       "      <th></th>\n",
       "      <th></th>\n",
       "    </tr>\n",
       "  </thead>\n",
       "  <tbody>\n",
       "    <tr>\n",
       "      <td>Female</td>\n",
       "      <td>11007</td>\n",
       "      <td>10976</td>\n",
       "      <td>11012</td>\n",
       "      <td>11041</td>\n",
       "      <td>10913</td>\n",
       "      <td>11065</td>\n",
       "      <td>10919</td>\n",
       "      <td>10877</td>\n",
       "      <td>10783</td>\n",
       "      <td>11131</td>\n",
       "      <td>...</td>\n",
       "      <td>10751</td>\n",
       "      <td>10989</td>\n",
       "      <td>10972</td>\n",
       "      <td>10990</td>\n",
       "      <td>11002</td>\n",
       "      <td>10950</td>\n",
       "      <td>11112</td>\n",
       "      <td>10979</td>\n",
       "      <td>10996</td>\n",
       "      <td>10876</td>\n",
       "    </tr>\n",
       "    <tr>\n",
       "      <td>Male</td>\n",
       "      <td>11078</td>\n",
       "      <td>10955</td>\n",
       "      <td>10884</td>\n",
       "      <td>10927</td>\n",
       "      <td>11113</td>\n",
       "      <td>11035</td>\n",
       "      <td>10855</td>\n",
       "      <td>10775</td>\n",
       "      <td>10964</td>\n",
       "      <td>10959</td>\n",
       "      <td>...</td>\n",
       "      <td>10994</td>\n",
       "      <td>11086</td>\n",
       "      <td>10948</td>\n",
       "      <td>10987</td>\n",
       "      <td>11028</td>\n",
       "      <td>10857</td>\n",
       "      <td>10978</td>\n",
       "      <td>11031</td>\n",
       "      <td>10864</td>\n",
       "      <td>10922</td>\n",
       "    </tr>\n",
       "  </tbody>\n",
       "</table>\n",
       "<p>2 rows × 79 columns</p>\n",
       "</div>"
      ],
      "text/plain": [
       "Product         Agoda Voucher  Alexa  Bharat Petroleum Voucher  \\\n",
       "CustomerGender                                                   \n",
       "Female                  11007  10976                     11012   \n",
       "Male                    11078  10955                     10884   \n",
       "\n",
       "Product         BookMyShow Gift Card  Byju Gift Card  ClearTrip Voucher  \\\n",
       "CustomerGender                                                            \n",
       "Female                         11041           10913              11065   \n",
       "Male                           10927           11113              11035   \n",
       "\n",
       "Product         CultFit Voucher  Diamond Jewellery  Dreams11 Gift Card  \\\n",
       "CustomerGender                                                           \n",
       "Female                    10919              10877               10783   \n",
       "Male                      10855              10775               10964   \n",
       "\n",
       "Product         Exotic Tea  ...  shirt  skirt  sleepers  tablet  \\\n",
       "CustomerGender              ...                                   \n",
       "Female               11131  ...  10751  10989     10972   10990   \n",
       "Male                 10959  ...  10994  11086     10948   10987   \n",
       "\n",
       "Product         travellers bag  trouser  tshirt  usb cable   vest  watch  \n",
       "CustomerGender                                                            \n",
       "Female                   11002    10950   11112      10979  10996  10876  \n",
       "Male                     11028    10857   10978      11031  10864  10922  \n",
       "\n",
       "[2 rows x 79 columns]"
      ]
     },
     "execution_count": 31,
     "metadata": {},
     "output_type": "execute_result"
    }
   ],
   "source": [
    "df.pivot_table(values='CustomerId', index = 'CustomerGender',columns= 'Product', aggfunc= 'count')"
   ]
  },
  {
   "cell_type": "markdown",
   "metadata": {},
   "source": [
    "Customers buying products equally distributed to all age grps"
   ]
  },
  {
   "cell_type": "code",
   "execution_count": 32,
   "metadata": {},
   "outputs": [
    {
     "data": {
      "text/html": [
       "<div>\n",
       "<style scoped>\n",
       "    .dataframe tbody tr th:only-of-type {\n",
       "        vertical-align: middle;\n",
       "    }\n",
       "\n",
       "    .dataframe tbody tr th {\n",
       "        vertical-align: top;\n",
       "    }\n",
       "\n",
       "    .dataframe thead th {\n",
       "        text-align: right;\n",
       "    }\n",
       "</style>\n",
       "<table border=\"1\" class=\"dataframe\">\n",
       "  <thead>\n",
       "    <tr style=\"text-align: right;\">\n",
       "      <th>CustomerAge</th>\n",
       "      <th>20</th>\n",
       "      <th>22</th>\n",
       "      <th>24</th>\n",
       "      <th>26</th>\n",
       "      <th>28</th>\n",
       "      <th>30</th>\n",
       "      <th>32</th>\n",
       "      <th>34</th>\n",
       "      <th>36</th>\n",
       "      <th>38</th>\n",
       "      <th>40</th>\n",
       "      <th>42</th>\n",
       "      <th>44</th>\n",
       "      <th>46</th>\n",
       "      <th>48</th>\n",
       "    </tr>\n",
       "    <tr>\n",
       "      <th>CustomerGender</th>\n",
       "      <th></th>\n",
       "      <th></th>\n",
       "      <th></th>\n",
       "      <th></th>\n",
       "      <th></th>\n",
       "      <th></th>\n",
       "      <th></th>\n",
       "      <th></th>\n",
       "      <th></th>\n",
       "      <th></th>\n",
       "      <th></th>\n",
       "      <th></th>\n",
       "      <th></th>\n",
       "      <th></th>\n",
       "      <th></th>\n",
       "    </tr>\n",
       "  </thead>\n",
       "  <tbody>\n",
       "    <tr>\n",
       "      <td>Female</td>\n",
       "      <td>57920</td>\n",
       "      <td>61390</td>\n",
       "      <td>56700</td>\n",
       "      <td>56820</td>\n",
       "      <td>57500</td>\n",
       "      <td>60135</td>\n",
       "      <td>57695</td>\n",
       "      <td>59225</td>\n",
       "      <td>59060</td>\n",
       "      <td>60110</td>\n",
       "      <td>56980</td>\n",
       "      <td>58580</td>\n",
       "      <td>55110</td>\n",
       "      <td>59680</td>\n",
       "      <td>59770</td>\n",
       "    </tr>\n",
       "    <tr>\n",
       "      <td>Male</td>\n",
       "      <td>59225</td>\n",
       "      <td>59485</td>\n",
       "      <td>58630</td>\n",
       "      <td>59640</td>\n",
       "      <td>56840</td>\n",
       "      <td>56825</td>\n",
       "      <td>58625</td>\n",
       "      <td>58130</td>\n",
       "      <td>58505</td>\n",
       "      <td>58175</td>\n",
       "      <td>60285</td>\n",
       "      <td>58845</td>\n",
       "      <td>59245</td>\n",
       "      <td>57920</td>\n",
       "      <td>57465</td>\n",
       "    </tr>\n",
       "  </tbody>\n",
       "</table>\n",
       "</div>"
      ],
      "text/plain": [
       "CustomerAge        20     22     24     26     28     30     32     34     36  \\\n",
       "CustomerGender                                                                  \n",
       "Female          57920  61390  56700  56820  57500  60135  57695  59225  59060   \n",
       "Male            59225  59485  58630  59640  56840  56825  58625  58130  58505   \n",
       "\n",
       "CustomerAge        38     40     42     44     46     48  \n",
       "CustomerGender                                            \n",
       "Female          60110  56980  58580  55110  59680  59770  \n",
       "Male            58175  60285  58845  59245  57920  57465  "
      ]
     },
     "execution_count": 32,
     "metadata": {},
     "output_type": "execute_result"
    }
   ],
   "source": [
    "df.pivot_table(values='CustomerId', index = 'CustomerGender',columns= 'CustomerAge', aggfunc= 'count')"
   ]
  },
  {
   "cell_type": "markdown",
   "metadata": {},
   "source": [
    "All the 79 products are purchased symmetrically from all age grps.And symmetrical in terms of Age grp , gender , Order status and Products"
   ]
  },
  {
   "cell_type": "code",
   "execution_count": 33,
   "metadata": {},
   "outputs": [
    {
     "data": {
      "text/html": [
       "<div>\n",
       "<style scoped>\n",
       "    .dataframe tbody tr th:only-of-type {\n",
       "        vertical-align: middle;\n",
       "    }\n",
       "\n",
       "    .dataframe tbody tr th {\n",
       "        vertical-align: top;\n",
       "    }\n",
       "\n",
       "    .dataframe thead th {\n",
       "        text-align: right;\n",
       "    }\n",
       "</style>\n",
       "<table border=\"1\" class=\"dataframe\">\n",
       "  <thead>\n",
       "    <tr style=\"text-align: right;\">\n",
       "      <th></th>\n",
       "      <th>CustomerAge</th>\n",
       "      <th>20</th>\n",
       "      <th>22</th>\n",
       "      <th>24</th>\n",
       "      <th>26</th>\n",
       "      <th>28</th>\n",
       "      <th>30</th>\n",
       "      <th>32</th>\n",
       "      <th>34</th>\n",
       "      <th>36</th>\n",
       "      <th>38</th>\n",
       "      <th>40</th>\n",
       "      <th>42</th>\n",
       "      <th>44</th>\n",
       "      <th>46</th>\n",
       "      <th>48</th>\n",
       "    </tr>\n",
       "    <tr>\n",
       "      <th>CustomerGender</th>\n",
       "      <th>Product</th>\n",
       "      <th></th>\n",
       "      <th></th>\n",
       "      <th></th>\n",
       "      <th></th>\n",
       "      <th></th>\n",
       "      <th></th>\n",
       "      <th></th>\n",
       "      <th></th>\n",
       "      <th></th>\n",
       "      <th></th>\n",
       "      <th></th>\n",
       "      <th></th>\n",
       "      <th></th>\n",
       "      <th></th>\n",
       "      <th></th>\n",
       "    </tr>\n",
       "  </thead>\n",
       "  <tbody>\n",
       "    <tr>\n",
       "      <td rowspan=\"5\" valign=\"top\">Female</td>\n",
       "      <td>Agoda Voucher</td>\n",
       "      <td>694</td>\n",
       "      <td>757</td>\n",
       "      <td>681</td>\n",
       "      <td>748</td>\n",
       "      <td>665</td>\n",
       "      <td>757</td>\n",
       "      <td>747</td>\n",
       "      <td>722</td>\n",
       "      <td>790</td>\n",
       "      <td>777</td>\n",
       "      <td>712</td>\n",
       "      <td>761</td>\n",
       "      <td>684</td>\n",
       "      <td>782</td>\n",
       "      <td>730</td>\n",
       "    </tr>\n",
       "    <tr>\n",
       "      <td>Alexa</td>\n",
       "      <td>755</td>\n",
       "      <td>737</td>\n",
       "      <td>722</td>\n",
       "      <td>693</td>\n",
       "      <td>710</td>\n",
       "      <td>740</td>\n",
       "      <td>698</td>\n",
       "      <td>773</td>\n",
       "      <td>743</td>\n",
       "      <td>767</td>\n",
       "      <td>719</td>\n",
       "      <td>714</td>\n",
       "      <td>681</td>\n",
       "      <td>735</td>\n",
       "      <td>789</td>\n",
       "    </tr>\n",
       "    <tr>\n",
       "      <td>Bharat Petroleum Voucher</td>\n",
       "      <td>740</td>\n",
       "      <td>767</td>\n",
       "      <td>735</td>\n",
       "      <td>678</td>\n",
       "      <td>716</td>\n",
       "      <td>718</td>\n",
       "      <td>720</td>\n",
       "      <td>806</td>\n",
       "      <td>733</td>\n",
       "      <td>788</td>\n",
       "      <td>679</td>\n",
       "      <td>703</td>\n",
       "      <td>721</td>\n",
       "      <td>760</td>\n",
       "      <td>748</td>\n",
       "    </tr>\n",
       "    <tr>\n",
       "      <td>BookMyShow Gift Card</td>\n",
       "      <td>720</td>\n",
       "      <td>770</td>\n",
       "      <td>707</td>\n",
       "      <td>712</td>\n",
       "      <td>771</td>\n",
       "      <td>767</td>\n",
       "      <td>733</td>\n",
       "      <td>679</td>\n",
       "      <td>774</td>\n",
       "      <td>798</td>\n",
       "      <td>730</td>\n",
       "      <td>761</td>\n",
       "      <td>678</td>\n",
       "      <td>681</td>\n",
       "      <td>760</td>\n",
       "    </tr>\n",
       "    <tr>\n",
       "      <td>Byju Gift Card</td>\n",
       "      <td>676</td>\n",
       "      <td>784</td>\n",
       "      <td>754</td>\n",
       "      <td>696</td>\n",
       "      <td>727</td>\n",
       "      <td>793</td>\n",
       "      <td>710</td>\n",
       "      <td>687</td>\n",
       "      <td>753</td>\n",
       "      <td>716</td>\n",
       "      <td>743</td>\n",
       "      <td>738</td>\n",
       "      <td>673</td>\n",
       "      <td>735</td>\n",
       "      <td>728</td>\n",
       "    </tr>\n",
       "    <tr>\n",
       "      <td>...</td>\n",
       "      <td>...</td>\n",
       "      <td>...</td>\n",
       "      <td>...</td>\n",
       "      <td>...</td>\n",
       "      <td>...</td>\n",
       "      <td>...</td>\n",
       "      <td>...</td>\n",
       "      <td>...</td>\n",
       "      <td>...</td>\n",
       "      <td>...</td>\n",
       "      <td>...</td>\n",
       "      <td>...</td>\n",
       "      <td>...</td>\n",
       "      <td>...</td>\n",
       "      <td>...</td>\n",
       "      <td>...</td>\n",
       "    </tr>\n",
       "    <tr>\n",
       "      <td rowspan=\"5\" valign=\"top\">Male</td>\n",
       "      <td>trouser</td>\n",
       "      <td>776</td>\n",
       "      <td>742</td>\n",
       "      <td>696</td>\n",
       "      <td>721</td>\n",
       "      <td>719</td>\n",
       "      <td>688</td>\n",
       "      <td>710</td>\n",
       "      <td>731</td>\n",
       "      <td>692</td>\n",
       "      <td>691</td>\n",
       "      <td>733</td>\n",
       "      <td>725</td>\n",
       "      <td>764</td>\n",
       "      <td>734</td>\n",
       "      <td>735</td>\n",
       "    </tr>\n",
       "    <tr>\n",
       "      <td>tshirt</td>\n",
       "      <td>749</td>\n",
       "      <td>724</td>\n",
       "      <td>734</td>\n",
       "      <td>776</td>\n",
       "      <td>687</td>\n",
       "      <td>682</td>\n",
       "      <td>779</td>\n",
       "      <td>761</td>\n",
       "      <td>721</td>\n",
       "      <td>723</td>\n",
       "      <td>719</td>\n",
       "      <td>744</td>\n",
       "      <td>705</td>\n",
       "      <td>722</td>\n",
       "      <td>752</td>\n",
       "    </tr>\n",
       "    <tr>\n",
       "      <td>usb cable</td>\n",
       "      <td>771</td>\n",
       "      <td>762</td>\n",
       "      <td>724</td>\n",
       "      <td>781</td>\n",
       "      <td>744</td>\n",
       "      <td>744</td>\n",
       "      <td>699</td>\n",
       "      <td>756</td>\n",
       "      <td>755</td>\n",
       "      <td>705</td>\n",
       "      <td>760</td>\n",
       "      <td>684</td>\n",
       "      <td>743</td>\n",
       "      <td>703</td>\n",
       "      <td>700</td>\n",
       "    </tr>\n",
       "    <tr>\n",
       "      <td>vest</td>\n",
       "      <td>723</td>\n",
       "      <td>783</td>\n",
       "      <td>705</td>\n",
       "      <td>736</td>\n",
       "      <td>686</td>\n",
       "      <td>711</td>\n",
       "      <td>725</td>\n",
       "      <td>711</td>\n",
       "      <td>740</td>\n",
       "      <td>679</td>\n",
       "      <td>754</td>\n",
       "      <td>733</td>\n",
       "      <td>720</td>\n",
       "      <td>743</td>\n",
       "      <td>715</td>\n",
       "    </tr>\n",
       "    <tr>\n",
       "      <td>watch</td>\n",
       "      <td>752</td>\n",
       "      <td>773</td>\n",
       "      <td>725</td>\n",
       "      <td>750</td>\n",
       "      <td>733</td>\n",
       "      <td>696</td>\n",
       "      <td>720</td>\n",
       "      <td>755</td>\n",
       "      <td>724</td>\n",
       "      <td>714</td>\n",
       "      <td>747</td>\n",
       "      <td>669</td>\n",
       "      <td>768</td>\n",
       "      <td>701</td>\n",
       "      <td>695</td>\n",
       "    </tr>\n",
       "  </tbody>\n",
       "</table>\n",
       "<p>158 rows × 15 columns</p>\n",
       "</div>"
      ],
      "text/plain": [
       "CustomerAge                               20   22   24   26   28   30   32  \\\n",
       "CustomerGender Product                                                       \n",
       "Female         Agoda Voucher             694  757  681  748  665  757  747   \n",
       "               Alexa                     755  737  722  693  710  740  698   \n",
       "               Bharat Petroleum Voucher  740  767  735  678  716  718  720   \n",
       "               BookMyShow Gift Card      720  770  707  712  771  767  733   \n",
       "               Byju Gift Card            676  784  754  696  727  793  710   \n",
       "...                                      ...  ...  ...  ...  ...  ...  ...   \n",
       "Male           trouser                   776  742  696  721  719  688  710   \n",
       "               tshirt                    749  724  734  776  687  682  779   \n",
       "               usb cable                 771  762  724  781  744  744  699   \n",
       "               vest                      723  783  705  736  686  711  725   \n",
       "               watch                     752  773  725  750  733  696  720   \n",
       "\n",
       "CustomerAge                               34   36   38   40   42   44   46  \\\n",
       "CustomerGender Product                                                       \n",
       "Female         Agoda Voucher             722  790  777  712  761  684  782   \n",
       "               Alexa                     773  743  767  719  714  681  735   \n",
       "               Bharat Petroleum Voucher  806  733  788  679  703  721  760   \n",
       "               BookMyShow Gift Card      679  774  798  730  761  678  681   \n",
       "               Byju Gift Card            687  753  716  743  738  673  735   \n",
       "...                                      ...  ...  ...  ...  ...  ...  ...   \n",
       "Male           trouser                   731  692  691  733  725  764  734   \n",
       "               tshirt                    761  721  723  719  744  705  722   \n",
       "               usb cable                 756  755  705  760  684  743  703   \n",
       "               vest                      711  740  679  754  733  720  743   \n",
       "               watch                     755  724  714  747  669  768  701   \n",
       "\n",
       "CustomerAge                               48  \n",
       "CustomerGender Product                        \n",
       "Female         Agoda Voucher             730  \n",
       "               Alexa                     789  \n",
       "               Bharat Petroleum Voucher  748  \n",
       "               BookMyShow Gift Card      760  \n",
       "               Byju Gift Card            728  \n",
       "...                                      ...  \n",
       "Male           trouser                   735  \n",
       "               tshirt                    752  \n",
       "               usb cable                 700  \n",
       "               vest                      715  \n",
       "               watch                     695  \n",
       "\n",
       "[158 rows x 15 columns]"
      ]
     },
     "execution_count": 33,
     "metadata": {},
     "output_type": "execute_result"
    }
   ],
   "source": [
    "df.pivot_table(values='CustomerId', index = ['CustomerGender','Product'],columns= 'CustomerAge', aggfunc= 'count')"
   ]
  },
  {
   "cell_type": "code",
   "execution_count": 34,
   "metadata": {},
   "outputs": [
    {
     "data": {
      "text/html": [
       "<div>\n",
       "<style scoped>\n",
       "    .dataframe tbody tr th:only-of-type {\n",
       "        vertical-align: middle;\n",
       "    }\n",
       "\n",
       "    .dataframe tbody tr th {\n",
       "        vertical-align: top;\n",
       "    }\n",
       "\n",
       "    .dataframe thead th {\n",
       "        text-align: right;\n",
       "    }\n",
       "</style>\n",
       "<table border=\"1\" class=\"dataframe\">\n",
       "  <thead>\n",
       "    <tr style=\"text-align: right;\">\n",
       "      <th></th>\n",
       "      <th>CustomerAge</th>\n",
       "      <th>20</th>\n",
       "      <th>22</th>\n",
       "      <th>24</th>\n",
       "      <th>26</th>\n",
       "      <th>28</th>\n",
       "      <th>30</th>\n",
       "      <th>32</th>\n",
       "      <th>34</th>\n",
       "      <th>36</th>\n",
       "      <th>38</th>\n",
       "      <th>40</th>\n",
       "      <th>42</th>\n",
       "      <th>44</th>\n",
       "      <th>46</th>\n",
       "      <th>48</th>\n",
       "    </tr>\n",
       "    <tr>\n",
       "      <th>CustomerGender</th>\n",
       "      <th>OrderStatus</th>\n",
       "      <th></th>\n",
       "      <th></th>\n",
       "      <th></th>\n",
       "      <th></th>\n",
       "      <th></th>\n",
       "      <th></th>\n",
       "      <th></th>\n",
       "      <th></th>\n",
       "      <th></th>\n",
       "      <th></th>\n",
       "      <th></th>\n",
       "      <th></th>\n",
       "      <th></th>\n",
       "      <th></th>\n",
       "      <th></th>\n",
       "    </tr>\n",
       "  </thead>\n",
       "  <tbody>\n",
       "    <tr>\n",
       "      <td rowspan=\"4\" valign=\"top\">Female</td>\n",
       "      <td>Delivered</td>\n",
       "      <td>14495</td>\n",
       "      <td>15128</td>\n",
       "      <td>14264</td>\n",
       "      <td>14141</td>\n",
       "      <td>14262</td>\n",
       "      <td>14963</td>\n",
       "      <td>14419</td>\n",
       "      <td>14788</td>\n",
       "      <td>14695</td>\n",
       "      <td>15043</td>\n",
       "      <td>13982</td>\n",
       "      <td>14830</td>\n",
       "      <td>13718</td>\n",
       "      <td>14849</td>\n",
       "      <td>14997</td>\n",
       "    </tr>\n",
       "    <tr>\n",
       "      <td>Item Returned</td>\n",
       "      <td>14794</td>\n",
       "      <td>15279</td>\n",
       "      <td>14069</td>\n",
       "      <td>14180</td>\n",
       "      <td>14376</td>\n",
       "      <td>15032</td>\n",
       "      <td>14251</td>\n",
       "      <td>14892</td>\n",
       "      <td>14823</td>\n",
       "      <td>14878</td>\n",
       "      <td>14575</td>\n",
       "      <td>14469</td>\n",
       "      <td>13746</td>\n",
       "      <td>14942</td>\n",
       "      <td>14832</td>\n",
       "    </tr>\n",
       "    <tr>\n",
       "      <td>Order Cancelled</td>\n",
       "      <td>14291</td>\n",
       "      <td>15497</td>\n",
       "      <td>13997</td>\n",
       "      <td>14209</td>\n",
       "      <td>14473</td>\n",
       "      <td>15147</td>\n",
       "      <td>14599</td>\n",
       "      <td>14676</td>\n",
       "      <td>14715</td>\n",
       "      <td>15154</td>\n",
       "      <td>14234</td>\n",
       "      <td>14705</td>\n",
       "      <td>13826</td>\n",
       "      <td>14916</td>\n",
       "      <td>14986</td>\n",
       "    </tr>\n",
       "    <tr>\n",
       "      <td>Payment Incomplete</td>\n",
       "      <td>14340</td>\n",
       "      <td>15486</td>\n",
       "      <td>14370</td>\n",
       "      <td>14290</td>\n",
       "      <td>14389</td>\n",
       "      <td>14993</td>\n",
       "      <td>14426</td>\n",
       "      <td>14869</td>\n",
       "      <td>14827</td>\n",
       "      <td>15035</td>\n",
       "      <td>14189</td>\n",
       "      <td>14576</td>\n",
       "      <td>13820</td>\n",
       "      <td>14973</td>\n",
       "      <td>14955</td>\n",
       "    </tr>\n",
       "    <tr>\n",
       "      <td rowspan=\"4\" valign=\"top\">Male</td>\n",
       "      <td>Delivered</td>\n",
       "      <td>14636</td>\n",
       "      <td>14705</td>\n",
       "      <td>14741</td>\n",
       "      <td>14959</td>\n",
       "      <td>14097</td>\n",
       "      <td>14186</td>\n",
       "      <td>14584</td>\n",
       "      <td>14499</td>\n",
       "      <td>14681</td>\n",
       "      <td>14490</td>\n",
       "      <td>15068</td>\n",
       "      <td>14781</td>\n",
       "      <td>14852</td>\n",
       "      <td>14497</td>\n",
       "      <td>14359</td>\n",
       "    </tr>\n",
       "    <tr>\n",
       "      <td>Item Returned</td>\n",
       "      <td>14873</td>\n",
       "      <td>15057</td>\n",
       "      <td>14525</td>\n",
       "      <td>14865</td>\n",
       "      <td>14319</td>\n",
       "      <td>14255</td>\n",
       "      <td>14435</td>\n",
       "      <td>14559</td>\n",
       "      <td>14551</td>\n",
       "      <td>14417</td>\n",
       "      <td>15071</td>\n",
       "      <td>14685</td>\n",
       "      <td>14857</td>\n",
       "      <td>14443</td>\n",
       "      <td>14285</td>\n",
       "    </tr>\n",
       "    <tr>\n",
       "      <td>Order Cancelled</td>\n",
       "      <td>15003</td>\n",
       "      <td>14806</td>\n",
       "      <td>14583</td>\n",
       "      <td>15052</td>\n",
       "      <td>14368</td>\n",
       "      <td>14052</td>\n",
       "      <td>14927</td>\n",
       "      <td>14516</td>\n",
       "      <td>14502</td>\n",
       "      <td>14600</td>\n",
       "      <td>14940</td>\n",
       "      <td>14703</td>\n",
       "      <td>14799</td>\n",
       "      <td>14574</td>\n",
       "      <td>14424</td>\n",
       "    </tr>\n",
       "    <tr>\n",
       "      <td>Payment Incomplete</td>\n",
       "      <td>14713</td>\n",
       "      <td>14917</td>\n",
       "      <td>14781</td>\n",
       "      <td>14764</td>\n",
       "      <td>14056</td>\n",
       "      <td>14332</td>\n",
       "      <td>14679</td>\n",
       "      <td>14556</td>\n",
       "      <td>14771</td>\n",
       "      <td>14668</td>\n",
       "      <td>15206</td>\n",
       "      <td>14676</td>\n",
       "      <td>14737</td>\n",
       "      <td>14406</td>\n",
       "      <td>14397</td>\n",
       "    </tr>\n",
       "  </tbody>\n",
       "</table>\n",
       "</div>"
      ],
      "text/plain": [
       "CustomerAge                           20     22     24     26     28     30  \\\n",
       "CustomerGender OrderStatus                                                    \n",
       "Female         Delivered           14495  15128  14264  14141  14262  14963   \n",
       "               Item Returned       14794  15279  14069  14180  14376  15032   \n",
       "               Order Cancelled     14291  15497  13997  14209  14473  15147   \n",
       "               Payment Incomplete  14340  15486  14370  14290  14389  14993   \n",
       "Male           Delivered           14636  14705  14741  14959  14097  14186   \n",
       "               Item Returned       14873  15057  14525  14865  14319  14255   \n",
       "               Order Cancelled     15003  14806  14583  15052  14368  14052   \n",
       "               Payment Incomplete  14713  14917  14781  14764  14056  14332   \n",
       "\n",
       "CustomerAge                           32     34     36     38     40     42  \\\n",
       "CustomerGender OrderStatus                                                    \n",
       "Female         Delivered           14419  14788  14695  15043  13982  14830   \n",
       "               Item Returned       14251  14892  14823  14878  14575  14469   \n",
       "               Order Cancelled     14599  14676  14715  15154  14234  14705   \n",
       "               Payment Incomplete  14426  14869  14827  15035  14189  14576   \n",
       "Male           Delivered           14584  14499  14681  14490  15068  14781   \n",
       "               Item Returned       14435  14559  14551  14417  15071  14685   \n",
       "               Order Cancelled     14927  14516  14502  14600  14940  14703   \n",
       "               Payment Incomplete  14679  14556  14771  14668  15206  14676   \n",
       "\n",
       "CustomerAge                           44     46     48  \n",
       "CustomerGender OrderStatus                              \n",
       "Female         Delivered           13718  14849  14997  \n",
       "               Item Returned       13746  14942  14832  \n",
       "               Order Cancelled     13826  14916  14986  \n",
       "               Payment Incomplete  13820  14973  14955  \n",
       "Male           Delivered           14852  14497  14359  \n",
       "               Item Returned       14857  14443  14285  \n",
       "               Order Cancelled     14799  14574  14424  \n",
       "               Payment Incomplete  14737  14406  14397  "
      ]
     },
     "execution_count": 34,
     "metadata": {},
     "output_type": "execute_result"
    }
   ],
   "source": [
    "df.pivot_table(values='CustomerId', index = ['CustomerGender','OrderStatus'],columns= 'CustomerAge', aggfunc= 'count')"
   ]
  },
  {
   "cell_type": "code",
   "execution_count": 35,
   "metadata": {},
   "outputs": [
    {
     "data": {
      "text/html": [
       "<div>\n",
       "<style scoped>\n",
       "    .dataframe tbody tr th:only-of-type {\n",
       "        vertical-align: middle;\n",
       "    }\n",
       "\n",
       "    .dataframe tbody tr th {\n",
       "        vertical-align: top;\n",
       "    }\n",
       "\n",
       "    .dataframe thead th {\n",
       "        text-align: right;\n",
       "    }\n",
       "</style>\n",
       "<table border=\"1\" class=\"dataframe\">\n",
       "  <thead>\n",
       "    <tr style=\"text-align: right;\">\n",
       "      <th>CustomerGender</th>\n",
       "      <th>Female</th>\n",
       "      <th>Male</th>\n",
       "    </tr>\n",
       "    <tr>\n",
       "      <th>OrderStatus</th>\n",
       "      <th></th>\n",
       "      <th></th>\n",
       "    </tr>\n",
       "  </thead>\n",
       "  <tbody>\n",
       "    <tr>\n",
       "      <td>Delivered</td>\n",
       "      <td>218574</td>\n",
       "      <td>219135</td>\n",
       "    </tr>\n",
       "    <tr>\n",
       "      <td>Item Returned</td>\n",
       "      <td>219138</td>\n",
       "      <td>219197</td>\n",
       "    </tr>\n",
       "    <tr>\n",
       "      <td>Order Cancelled</td>\n",
       "      <td>219425</td>\n",
       "      <td>219849</td>\n",
       "    </tr>\n",
       "    <tr>\n",
       "      <td>Payment Incomplete</td>\n",
       "      <td>219538</td>\n",
       "      <td>219659</td>\n",
       "    </tr>\n",
       "  </tbody>\n",
       "</table>\n",
       "</div>"
      ],
      "text/plain": [
       "CustomerGender      Female    Male\n",
       "OrderStatus                       \n",
       "Delivered           218574  219135\n",
       "Item Returned       219138  219197\n",
       "Order Cancelled     219425  219849\n",
       "Payment Incomplete  219538  219659"
      ]
     },
     "execution_count": 35,
     "metadata": {},
     "output_type": "execute_result"
    }
   ],
   "source": [
    "df.pivot_table(values='CustomerId', index = ['OrderStatus'],columns= 'CustomerGender', aggfunc= 'count')"
   ]
  },
  {
   "cell_type": "markdown",
   "metadata": {},
   "source": [
    "Correlation matrix"
   ]
  },
  {
   "cell_type": "code",
   "execution_count": 36,
   "metadata": {},
   "outputs": [
    {
     "data": {
      "image/png": "[encoded data removed]",
      "text/plain": [
       "<Figure size 1008x864 with 2 Axes>"
      ]
     },
     "metadata": {
      "needs_background": "light"
     },
     "output_type": "display_data"
    }
   ],
   "source": [
    "plt.figure(figsize=(14,12))\n",
    "\n",
    "sns.heatmap(df.corr(),linewidths=.1,cmap=\"YlGnBu\", annot=True)\n",
    "\n",
    "plt.yticks(rotation=0);"
   ]
  },
  {
   "cell_type": "code",
   "execution_count": 37,
   "metadata": {},
   "outputs": [],
   "source": [
    "#pp = sns.pairplot(df)"
   ]
  },
  {
   "cell_type": "markdown",
   "metadata": {},
   "source": [
    "# Data pre processing :"
   ]
  },
  {
   "cell_type": "markdown",
   "metadata": {},
   "source": [
    "No blanks/NUlls/missing values are there for features/columns except OrderDate column which we can drop as it is of no use. Hence no imputation required of any of the features."
   ]
  },
  {
   "cell_type": "code",
   "execution_count": 38,
   "metadata": {},
   "outputs": [
    {
     "data": {
      "text/plain": [
       "CustomerId                    0\n",
       "CustomerEmailAddress          0\n",
       "CustomerGender                0\n",
       "CustomerAge                   0\n",
       "CustomerDeviceType            0\n",
       "OrderId                       0\n",
       "OrderAmount                   0\n",
       "Product                       0\n",
       "OrderStatus                   0\n",
       "DeliveryPinCode               0\n",
       "OrderPaymentMode              0\n",
       "OrderDate               1754515\n",
       "dtype: int64"
      ]
     },
     "execution_count": 38,
     "metadata": {},
     "output_type": "execute_result"
    }
   ],
   "source": [
    "df.isna().sum()"
   ]
  },
  {
   "cell_type": "markdown",
   "metadata": {},
   "source": [
    "Dropping the OrderDate column"
   ]
  },
  {
   "cell_type": "code",
   "execution_count": 39,
   "metadata": {},
   "outputs": [],
   "source": [
    "df.drop(['OrderDate'],axis=1,inplace=True)"
   ]
  },
  {
   "cell_type": "code",
   "execution_count": 40,
   "metadata": {},
   "outputs": [
    {
     "data": {
      "text/html": [
       "<div>\n",
       "<style scoped>\n",
       "    .dataframe tbody tr th:only-of-type {\n",
       "        vertical-align: middle;\n",
       "    }\n",
       "\n",
       "    .dataframe tbody tr th {\n",
       "        vertical-align: top;\n",
       "    }\n",
       "\n",
       "    .dataframe thead th {\n",
       "        text-align: right;\n",
       "    }\n",
       "</style>\n",
       "<table border=\"1\" class=\"dataframe\">\n",
       "  <thead>\n",
       "    <tr style=\"text-align: right;\">\n",
       "      <th></th>\n",
       "      <th>CustomerId</th>\n",
       "      <th>CustomerEmailAddress</th>\n",
       "      <th>CustomerGender</th>\n",
       "      <th>CustomerAge</th>\n",
       "      <th>CustomerDeviceType</th>\n",
       "      <th>OrderId</th>\n",
       "      <th>OrderAmount</th>\n",
       "      <th>Product</th>\n",
       "      <th>OrderStatus</th>\n",
       "      <th>DeliveryPinCode</th>\n",
       "      <th>OrderPaymentMode</th>\n",
       "    </tr>\n",
       "  </thead>\n",
       "  <tbody>\n",
       "    <tr>\n",
       "      <td>0</td>\n",
       "      <td>Q8RV5E9KFX</td>\n",
       "      <td>bilhgbg@mail.com</td>\n",
       "      <td>Male</td>\n",
       "      <td>48</td>\n",
       "      <td>iOS</td>\n",
       "      <td>398629</td>\n",
       "      <td>10000</td>\n",
       "      <td>Google Home</td>\n",
       "      <td>Item Returned</td>\n",
       "      <td>560034</td>\n",
       "      <td>net_banking</td>\n",
       "    </tr>\n",
       "    <tr>\n",
       "      <td>1</td>\n",
       "      <td>Q8RV5E9KFX</td>\n",
       "      <td>bilhgbg@mail.com</td>\n",
       "      <td>Male</td>\n",
       "      <td>48</td>\n",
       "      <td>iOS</td>\n",
       "      <td>2593111</td>\n",
       "      <td>5000</td>\n",
       "      <td>Dreams11 Gift Card</td>\n",
       "      <td>Item Returned</td>\n",
       "      <td>110001</td>\n",
       "      <td>credit_card</td>\n",
       "    </tr>\n",
       "    <tr>\n",
       "      <td>2</td>\n",
       "      <td>Q8RV5E9KFX</td>\n",
       "      <td>bilhgbg@mail.com</td>\n",
       "      <td>Male</td>\n",
       "      <td>48</td>\n",
       "      <td>iOS</td>\n",
       "      <td>2244234</td>\n",
       "      <td>500</td>\n",
       "      <td>sleepers</td>\n",
       "      <td>Item Returned</td>\n",
       "      <td>400050</td>\n",
       "      <td>upi</td>\n",
       "    </tr>\n",
       "    <tr>\n",
       "      <td>3</td>\n",
       "      <td>Q8RV5E9KFX</td>\n",
       "      <td>bilhgbg@mail.com</td>\n",
       "      <td>Male</td>\n",
       "      <td>48</td>\n",
       "      <td>iOS</td>\n",
       "      <td>9622013</td>\n",
       "      <td>25000</td>\n",
       "      <td>Vedantu Gift Card</td>\n",
       "      <td>Delivered</td>\n",
       "      <td>110025</td>\n",
       "      <td>wallet</td>\n",
       "    </tr>\n",
       "    <tr>\n",
       "      <td>4</td>\n",
       "      <td>Q8RV5E9KFX</td>\n",
       "      <td>bilhgbg@mail.com</td>\n",
       "      <td>Male</td>\n",
       "      <td>48</td>\n",
       "      <td>iOS</td>\n",
       "      <td>8419436</td>\n",
       "      <td>5000</td>\n",
       "      <td>Sun Glasses</td>\n",
       "      <td>Item Returned</td>\n",
       "      <td>110025</td>\n",
       "      <td>credit_card</td>\n",
       "    </tr>\n",
       "    <tr>\n",
       "      <td>...</td>\n",
       "      <td>...</td>\n",
       "      <td>...</td>\n",
       "      <td>...</td>\n",
       "      <td>...</td>\n",
       "      <td>...</td>\n",
       "      <td>...</td>\n",
       "      <td>...</td>\n",
       "      <td>...</td>\n",
       "      <td>...</td>\n",
       "      <td>...</td>\n",
       "      <td>...</td>\n",
       "    </tr>\n",
       "    <tr>\n",
       "      <td>1754510</td>\n",
       "      <td>Y6BIVCODU7</td>\n",
       "      <td>jhiijkj@gmail.com</td>\n",
       "      <td>Male</td>\n",
       "      <td>26</td>\n",
       "      <td>Android</td>\n",
       "      <td>6198000</td>\n",
       "      <td>1000</td>\n",
       "      <td>ink pen</td>\n",
       "      <td>Payment Incomplete</td>\n",
       "      <td>560001</td>\n",
       "      <td>debit_card</td>\n",
       "    </tr>\n",
       "    <tr>\n",
       "      <td>1754511</td>\n",
       "      <td>Y6BIVCODU7</td>\n",
       "      <td>jhiijkj@gmail.com</td>\n",
       "      <td>Male</td>\n",
       "      <td>26</td>\n",
       "      <td>Android</td>\n",
       "      <td>7490043</td>\n",
       "      <td>1000</td>\n",
       "      <td>CultFit Voucher</td>\n",
       "      <td>Delivered</td>\n",
       "      <td>400050</td>\n",
       "      <td>debit_card</td>\n",
       "    </tr>\n",
       "    <tr>\n",
       "      <td>1754512</td>\n",
       "      <td>Y6BIVCODU7</td>\n",
       "      <td>jhiijkj@gmail.com</td>\n",
       "      <td>Male</td>\n",
       "      <td>26</td>\n",
       "      <td>Android</td>\n",
       "      <td>432313</td>\n",
       "      <td>75000</td>\n",
       "      <td>Wood Furniture</td>\n",
       "      <td>Item Returned</td>\n",
       "      <td>560102</td>\n",
       "      <td>net_banking</td>\n",
       "    </tr>\n",
       "    <tr>\n",
       "      <td>1754513</td>\n",
       "      <td>Y6BIVCODU7</td>\n",
       "      <td>jhiijkj@gmail.com</td>\n",
       "      <td>Male</td>\n",
       "      <td>26</td>\n",
       "      <td>Android</td>\n",
       "      <td>8881802</td>\n",
       "      <td>7000</td>\n",
       "      <td>Router</td>\n",
       "      <td>Delivered</td>\n",
       "      <td>400038</td>\n",
       "      <td>net_banking</td>\n",
       "    </tr>\n",
       "    <tr>\n",
       "      <td>1754514</td>\n",
       "      <td>Y6BIVCODU7</td>\n",
       "      <td>jhiijkj@gmail.com</td>\n",
       "      <td>Male</td>\n",
       "      <td>26</td>\n",
       "      <td>Android</td>\n",
       "      <td>502102</td>\n",
       "      <td>200</td>\n",
       "      <td>shaving cream</td>\n",
       "      <td>Delivered</td>\n",
       "      <td>400038</td>\n",
       "      <td>debit_card</td>\n",
       "    </tr>\n",
       "  </tbody>\n",
       "</table>\n",
       "<p>1754515 rows × 11 columns</p>\n",
       "</div>"
      ],
      "text/plain": [
       "         CustomerId CustomerEmailAddress CustomerGender  CustomerAge  \\\n",
       "0        Q8RV5E9KFX     bilhgbg@mail.com           Male           48   \n",
       "1        Q8RV5E9KFX     bilhgbg@mail.com           Male           48   \n",
       "2        Q8RV5E9KFX     bilhgbg@mail.com           Male           48   \n",
       "3        Q8RV5E9KFX     bilhgbg@mail.com           Male           48   \n",
       "4        Q8RV5E9KFX     bilhgbg@mail.com           Male           48   \n",
       "...             ...                  ...            ...          ...   \n",
       "1754510  Y6BIVCODU7    jhiijkj@gmail.com           Male           26   \n",
       "1754511  Y6BIVCODU7    jhiijkj@gmail.com           Male           26   \n",
       "1754512  Y6BIVCODU7    jhiijkj@gmail.com           Male           26   \n",
       "1754513  Y6BIVCODU7    jhiijkj@gmail.com           Male           26   \n",
       "1754514  Y6BIVCODU7    jhiijkj@gmail.com           Male           26   \n",
       "\n",
       "        CustomerDeviceType  OrderId  OrderAmount             Product  \\\n",
       "0                      iOS   398629        10000         Google Home   \n",
       "1                      iOS  2593111         5000  Dreams11 Gift Card   \n",
       "2                      iOS  2244234          500            sleepers   \n",
       "3                      iOS  9622013        25000   Vedantu Gift Card   \n",
       "4                      iOS  8419436         5000         Sun Glasses   \n",
       "...                    ...      ...          ...                 ...   \n",
       "1754510            Android  6198000         1000             ink pen   \n",
       "1754511            Android  7490043         1000     CultFit Voucher   \n",
       "1754512            Android   432313        75000      Wood Furniture   \n",
       "1754513            Android  8881802         7000              Router   \n",
       "1754514            Android   502102          200       shaving cream   \n",
       "\n",
       "                OrderStatus  DeliveryPinCode OrderPaymentMode  \n",
       "0             Item Returned           560034      net_banking  \n",
       "1             Item Returned           110001      credit_card  \n",
       "2             Item Returned           400050              upi  \n",
       "3                 Delivered           110025           wallet  \n",
       "4             Item Returned           110025      credit_card  \n",
       "...                     ...              ...              ...  \n",
       "1754510  Payment Incomplete           560001       debit_card  \n",
       "1754511           Delivered           400050       debit_card  \n",
       "1754512       Item Returned           560102      net_banking  \n",
       "1754513           Delivered           400038      net_banking  \n",
       "1754514           Delivered           400038       debit_card  \n",
       "\n",
       "[1754515 rows x 11 columns]"
      ]
     },
     "execution_count": 40,
     "metadata": {},
     "output_type": "execute_result"
    }
   ],
   "source": [
    "df"
   ]
  },
  {
   "cell_type": "code",
   "execution_count": 41,
   "metadata": {},
   "outputs": [
    {
     "data": {
      "text/plain": [
       "CustomerId              object\n",
       "CustomerEmailAddress    object\n",
       "CustomerGender          object\n",
       "CustomerAge              int64\n",
       "CustomerDeviceType      object\n",
       "OrderId                  int64\n",
       "OrderAmount              int64\n",
       "Product                 object\n",
       "OrderStatus             object\n",
       "DeliveryPinCode          int64\n",
       "OrderPaymentMode        object\n",
       "dtype: object"
      ]
     },
     "execution_count": 41,
     "metadata": {},
     "output_type": "execute_result"
    }
   ],
   "source": [
    "df.dtypes"
   ]
  },
  {
   "cell_type": "markdown",
   "metadata": {},
   "source": [
    "# Deriving/adding extra column based on produts and their type and utility:\n",
    "    **ProductCategory"
   ]
  },
  {
   "cell_type": "code",
   "execution_count": 42,
   "metadata": {},
   "outputs": [],
   "source": [
    "df['ProductCategory']=\"\""
   ]
  },
  {
   "cell_type": "code",
   "execution_count": 43,
   "metadata": {},
   "outputs": [],
   "source": [
    "df['ProductCategory']=np.where((df['Product']=='hand bag')|(df['Product']=='handkerchief')|(df['Product']=='laptop bag')|(df['Product']=='Luxury watch')|(df['Product']=='passport bag')|(df['Product']=='Sun Glasses')|(df['Product']=='travellers bag')|(df['Product']=='watch'),'accessories',df['ProductCategory'])\n"
   ]
  },
  {
   "cell_type": "code",
   "execution_count": 44,
   "metadata": {},
   "outputs": [],
   "source": [
    "df['ProductCategory']=np.where((df['Product']=='deodrant')|(df['Product']=='perfume')|(df['Product']=='shaving cream'),'Bodyshop',df['ProductCategory'])\n"
   ]
  },
  {
   "cell_type": "code",
   "execution_count": 45,
   "metadata": {},
   "outputs": [],
   "source": [
    "df['ProductCategory']=np.where((df['Product']=='blouse')|(df['Product']=='saree')|(df['Product']=='skirt'),'Women Clothing',df['ProductCategory'])\n"
   ]
  },
  {
   "cell_type": "code",
   "execution_count": 46,
   "metadata": {},
   "outputs": [],
   "source": [
    "df['ProductCategory']=np.where((df['Product']=='brief')|(df['Product']=='mens suit')|(df['Product']=='vest'),'Men Clothing',df['ProductCategory'])\n"
   ]
  },
  {
   "cell_type": "code",
   "execution_count": 47,
   "metadata": {},
   "outputs": [],
   "source": [
    "df['ProductCategory']=np.where((df['Product']=='jeans')|(df['Product']=='shirt')|(df['Product']=='trouser')|(df['Product']=='tshirt'),'Women & Men Clothing',df['ProductCategory'])\n"
   ]
  },
  {
   "cell_type": "code",
   "execution_count": 48,
   "metadata": {},
   "outputs": [],
   "source": [
    "df['ProductCategory']=np.where((df['Product']=='Exotic Tea'),'Food & Beverage',df['ProductCategory'])\n"
   ]
  },
  {
   "cell_type": "code",
   "execution_count": 49,
   "metadata": {},
   "outputs": [],
   "source": [
    "df['ProductCategory']=np.where((df['Product']=='casual shoes')|(df['Product']=='formal shoes')|(df['Product']=='sleepers'),'Footwear',df['ProductCategory'])\n"
   ]
  },
  {
   "cell_type": "code",
   "execution_count": 50,
   "metadata": {},
   "outputs": [],
   "source": [
    "df['ProductCategory']=np.where((df['Product']=='Metal Furniture')|(df['Product']=='Wood Furniture'),'Furniture',df['ProductCategory'])\n"
   ]
  },
  {
   "cell_type": "code",
   "execution_count": 51,
   "metadata": {},
   "outputs": [],
   "source": [
    "df['ProductCategory']=np.where(df['Product'].str.contains('Card')==True,'Gift Card',df['ProductCategory'])"
   ]
  },
  {
   "cell_type": "code",
   "execution_count": 52,
   "metadata": {},
   "outputs": [],
   "source": [
    "df['ProductCategory']=np.where((df['Product']=='Diamond Jewellery')|(df['Product']=='Gold Jewelley'),'Jewellery',df['ProductCategory'])\n"
   ]
  },
  {
   "cell_type": "code",
   "execution_count": 53,
   "metadata": {},
   "outputs": [],
   "source": [
    "df['ProductCategory']=np.where((df['Product']=='ball pen')|(df['Product']=='books')|(df['Product']=='ink pen')|(df['Product']=='Kindle')|(df['Product']=='notepad'),'stationery',df['ProductCategory'])\n"
   ]
  },
  {
   "cell_type": "code",
   "execution_count": 54,
   "metadata": {},
   "outputs": [],
   "source": [
    "df['ProductCategory']=np.where((df['Product']=='Agoda Voucher')|(df['Product']=='Bharat Petroleum Voucher')|(df['Product']=='ClearTrip Voucher')|(df['Product']=='IRCTC Voucher')|(df['Product']=='MakeMyTrip Voucher')|(df['Product']=='Yatra Voucher'),'Travel Voucher',df['ProductCategory'])\n"
   ]
  },
  {
   "cell_type": "code",
   "execution_count": 55,
   "metadata": {},
   "outputs": [],
   "source": [
    "df['ProductCategory']=np.where((df['Product']=='Hotstar Voucher')|(df['Product']=='NetFlix Voucher')|(df['Product']=='SonyLiv Voucher')|(df['Product']=='Voot Voucher')|(df['Product']=='Zee5 Voucher'),'Entertainment Voucher',df['ProductCategory'])\n"
   ]
  },
  {
   "cell_type": "code",
   "execution_count": 56,
   "metadata": {},
   "outputs": [],
   "source": [
    "df['ProductCategory']=np.where((df['Product']=='CultFit Voucher')|(df['Product']=='HeadOut Voucher'),'Fitness Voucher',df['ProductCategory'])\n"
   ]
  },
  {
   "cell_type": "code",
   "execution_count": 57,
   "metadata": {},
   "outputs": [],
   "source": [
    "df['ProductCategory']=np.where(df['ProductCategory']==\"\",'Electronics',df['ProductCategory'])"
   ]
  },
  {
   "cell_type": "markdown",
   "metadata": {},
   "source": [
    "Most sold Products are from Electronics category. This is because the age grp buying these products are young(between 20-35 yrs)"
   ]
  },
  {
   "cell_type": "code",
   "execution_count": 58,
   "metadata": {},
   "outputs": [
    {
     "data": {
      "text/plain": [
       "Electronics              460296\n",
       "Gift Card                263587\n",
       "accessories              175660\n",
       "Travel Voucher           131455\n",
       "stationery               109980\n",
       "Entertainment Voucher    109174\n",
       "Women & Men Clothing      87757\n",
       "Women Clothing            65911\n",
       "Men Clothing              65890\n",
       "Bodyshop                  65558\n",
       "Footwear                  65370\n",
       "Furniture                 44194\n",
       "Fitness Voucher           43856\n",
       "Jewellery                 43737\n",
       "Food & Beverage           22090\n",
       "Name: ProductCategory, dtype: int64"
      ]
     },
     "execution_count": 58,
     "metadata": {},
     "output_type": "execute_result"
    }
   ],
   "source": [
    "df['ProductCategory'].value_counts()"
   ]
  },
  {
   "cell_type": "code",
   "execution_count": 59,
   "metadata": {
    "scrolled": false
   },
   "outputs": [
    {
     "data": {
      "text/html": [
       "<div>\n",
       "<style scoped>\n",
       "    .dataframe tbody tr th:only-of-type {\n",
       "        vertical-align: middle;\n",
       "    }\n",
       "\n",
       "    .dataframe tbody tr th {\n",
       "        vertical-align: top;\n",
       "    }\n",
       "\n",
       "    .dataframe thead th {\n",
       "        text-align: right;\n",
       "    }\n",
       "</style>\n",
       "<table border=\"1\" class=\"dataframe\">\n",
       "  <thead>\n",
       "    <tr style=\"text-align: right;\">\n",
       "      <th></th>\n",
       "      <th>CustomerId</th>\n",
       "      <th>CustomerEmailAddress</th>\n",
       "      <th>CustomerGender</th>\n",
       "      <th>CustomerAge</th>\n",
       "      <th>CustomerDeviceType</th>\n",
       "      <th>OrderId</th>\n",
       "      <th>OrderAmount</th>\n",
       "      <th>Product</th>\n",
       "      <th>OrderStatus</th>\n",
       "      <th>DeliveryPinCode</th>\n",
       "      <th>OrderPaymentMode</th>\n",
       "      <th>ProductCategory</th>\n",
       "    </tr>\n",
       "  </thead>\n",
       "  <tbody>\n",
       "    <tr>\n",
       "      <td>0</td>\n",
       "      <td>Q8RV5E9KFX</td>\n",
       "      <td>bilhgbg@mail.com</td>\n",
       "      <td>Male</td>\n",
       "      <td>48</td>\n",
       "      <td>iOS</td>\n",
       "      <td>398629</td>\n",
       "      <td>10000</td>\n",
       "      <td>Google Home</td>\n",
       "      <td>Item Returned</td>\n",
       "      <td>560034</td>\n",
       "      <td>net_banking</td>\n",
       "      <td>Electronics</td>\n",
       "    </tr>\n",
       "    <tr>\n",
       "      <td>1</td>\n",
       "      <td>Q8RV5E9KFX</td>\n",
       "      <td>bilhgbg@mail.com</td>\n",
       "      <td>Male</td>\n",
       "      <td>48</td>\n",
       "      <td>iOS</td>\n",
       "      <td>2593111</td>\n",
       "      <td>5000</td>\n",
       "      <td>Dreams11 Gift Card</td>\n",
       "      <td>Item Returned</td>\n",
       "      <td>110001</td>\n",
       "      <td>credit_card</td>\n",
       "      <td>Gift Card</td>\n",
       "    </tr>\n",
       "    <tr>\n",
       "      <td>2</td>\n",
       "      <td>Q8RV5E9KFX</td>\n",
       "      <td>bilhgbg@mail.com</td>\n",
       "      <td>Male</td>\n",
       "      <td>48</td>\n",
       "      <td>iOS</td>\n",
       "      <td>2244234</td>\n",
       "      <td>500</td>\n",
       "      <td>sleepers</td>\n",
       "      <td>Item Returned</td>\n",
       "      <td>400050</td>\n",
       "      <td>upi</td>\n",
       "      <td>Footwear</td>\n",
       "    </tr>\n",
       "    <tr>\n",
       "      <td>3</td>\n",
       "      <td>Q8RV5E9KFX</td>\n",
       "      <td>bilhgbg@mail.com</td>\n",
       "      <td>Male</td>\n",
       "      <td>48</td>\n",
       "      <td>iOS</td>\n",
       "      <td>9622013</td>\n",
       "      <td>25000</td>\n",
       "      <td>Vedantu Gift Card</td>\n",
       "      <td>Delivered</td>\n",
       "      <td>110025</td>\n",
       "      <td>wallet</td>\n",
       "      <td>Gift Card</td>\n",
       "    </tr>\n",
       "    <tr>\n",
       "      <td>4</td>\n",
       "      <td>Q8RV5E9KFX</td>\n",
       "      <td>bilhgbg@mail.com</td>\n",
       "      <td>Male</td>\n",
       "      <td>48</td>\n",
       "      <td>iOS</td>\n",
       "      <td>8419436</td>\n",
       "      <td>5000</td>\n",
       "      <td>Sun Glasses</td>\n",
       "      <td>Item Returned</td>\n",
       "      <td>110025</td>\n",
       "      <td>credit_card</td>\n",
       "      <td>accessories</td>\n",
       "    </tr>\n",
       "    <tr>\n",
       "      <td>...</td>\n",
       "      <td>...</td>\n",
       "      <td>...</td>\n",
       "      <td>...</td>\n",
       "      <td>...</td>\n",
       "      <td>...</td>\n",
       "      <td>...</td>\n",
       "      <td>...</td>\n",
       "      <td>...</td>\n",
       "      <td>...</td>\n",
       "      <td>...</td>\n",
       "      <td>...</td>\n",
       "      <td>...</td>\n",
       "    </tr>\n",
       "    <tr>\n",
       "      <td>1754510</td>\n",
       "      <td>Y6BIVCODU7</td>\n",
       "      <td>jhiijkj@gmail.com</td>\n",
       "      <td>Male</td>\n",
       "      <td>26</td>\n",
       "      <td>Android</td>\n",
       "      <td>6198000</td>\n",
       "      <td>1000</td>\n",
       "      <td>ink pen</td>\n",
       "      <td>Payment Incomplete</td>\n",
       "      <td>560001</td>\n",
       "      <td>debit_card</td>\n",
       "      <td>stationery</td>\n",
       "    </tr>\n",
       "    <tr>\n",
       "      <td>1754511</td>\n",
       "      <td>Y6BIVCODU7</td>\n",
       "      <td>jhiijkj@gmail.com</td>\n",
       "      <td>Male</td>\n",
       "      <td>26</td>\n",
       "      <td>Android</td>\n",
       "      <td>7490043</td>\n",
       "      <td>1000</td>\n",
       "      <td>CultFit Voucher</td>\n",
       "      <td>Delivered</td>\n",
       "      <td>400050</td>\n",
       "      <td>debit_card</td>\n",
       "      <td>Fitness Voucher</td>\n",
       "    </tr>\n",
       "    <tr>\n",
       "      <td>1754512</td>\n",
       "      <td>Y6BIVCODU7</td>\n",
       "      <td>jhiijkj@gmail.com</td>\n",
       "      <td>Male</td>\n",
       "      <td>26</td>\n",
       "      <td>Android</td>\n",
       "      <td>432313</td>\n",
       "      <td>75000</td>\n",
       "      <td>Wood Furniture</td>\n",
       "      <td>Item Returned</td>\n",
       "      <td>560102</td>\n",
       "      <td>net_banking</td>\n",
       "      <td>Furniture</td>\n",
       "    </tr>\n",
       "    <tr>\n",
       "      <td>1754513</td>\n",
       "      <td>Y6BIVCODU7</td>\n",
       "      <td>jhiijkj@gmail.com</td>\n",
       "      <td>Male</td>\n",
       "      <td>26</td>\n",
       "      <td>Android</td>\n",
       "      <td>8881802</td>\n",
       "      <td>7000</td>\n",
       "      <td>Router</td>\n",
       "      <td>Delivered</td>\n",
       "      <td>400038</td>\n",
       "      <td>net_banking</td>\n",
       "      <td>Electronics</td>\n",
       "    </tr>\n",
       "    <tr>\n",
       "      <td>1754514</td>\n",
       "      <td>Y6BIVCODU7</td>\n",
       "      <td>jhiijkj@gmail.com</td>\n",
       "      <td>Male</td>\n",
       "      <td>26</td>\n",
       "      <td>Android</td>\n",
       "      <td>502102</td>\n",
       "      <td>200</td>\n",
       "      <td>shaving cream</td>\n",
       "      <td>Delivered</td>\n",
       "      <td>400038</td>\n",
       "      <td>debit_card</td>\n",
       "      <td>Bodyshop</td>\n",
       "    </tr>\n",
       "  </tbody>\n",
       "</table>\n",
       "<p>1754515 rows × 12 columns</p>\n",
       "</div>"
      ],
      "text/plain": [
       "         CustomerId CustomerEmailAddress CustomerGender  CustomerAge  \\\n",
       "0        Q8RV5E9KFX     bilhgbg@mail.com           Male           48   \n",
       "1        Q8RV5E9KFX     bilhgbg@mail.com           Male           48   \n",
       "2        Q8RV5E9KFX     bilhgbg@mail.com           Male           48   \n",
       "3        Q8RV5E9KFX     bilhgbg@mail.com           Male           48   \n",
       "4        Q8RV5E9KFX     bilhgbg@mail.com           Male           48   \n",
       "...             ...                  ...            ...          ...   \n",
       "1754510  Y6BIVCODU7    jhiijkj@gmail.com           Male           26   \n",
       "1754511  Y6BIVCODU7    jhiijkj@gmail.com           Male           26   \n",
       "1754512  Y6BIVCODU7    jhiijkj@gmail.com           Male           26   \n",
       "1754513  Y6BIVCODU7    jhiijkj@gmail.com           Male           26   \n",
       "1754514  Y6BIVCODU7    jhiijkj@gmail.com           Male           26   \n",
       "\n",
       "        CustomerDeviceType  OrderId  OrderAmount             Product  \\\n",
       "0                      iOS   398629        10000         Google Home   \n",
       "1                      iOS  2593111         5000  Dreams11 Gift Card   \n",
       "2                      iOS  2244234          500            sleepers   \n",
       "3                      iOS  9622013        25000   Vedantu Gift Card   \n",
       "4                      iOS  8419436         5000         Sun Glasses   \n",
       "...                    ...      ...          ...                 ...   \n",
       "1754510            Android  6198000         1000             ink pen   \n",
       "1754511            Android  7490043         1000     CultFit Voucher   \n",
       "1754512            Android   432313        75000      Wood Furniture   \n",
       "1754513            Android  8881802         7000              Router   \n",
       "1754514            Android   502102          200       shaving cream   \n",
       "\n",
       "                OrderStatus  DeliveryPinCode OrderPaymentMode  ProductCategory  \n",
       "0             Item Returned           560034      net_banking      Electronics  \n",
       "1             Item Returned           110001      credit_card        Gift Card  \n",
       "2             Item Returned           400050              upi         Footwear  \n",
       "3                 Delivered           110025           wallet        Gift Card  \n",
       "4             Item Returned           110025      credit_card      accessories  \n",
       "...                     ...              ...              ...              ...  \n",
       "1754510  Payment Incomplete           560001       debit_card       stationery  \n",
       "1754511           Delivered           400050       debit_card  Fitness Voucher  \n",
       "1754512       Item Returned           560102      net_banking        Furniture  \n",
       "1754513           Delivered           400038      net_banking      Electronics  \n",
       "1754514           Delivered           400038       debit_card         Bodyshop  \n",
       "\n",
       "[1754515 rows x 12 columns]"
      ]
     },
     "execution_count": 59,
     "metadata": {},
     "output_type": "execute_result"
    }
   ],
   "source": [
    "df"
   ]
  },
  {
   "cell_type": "code",
   "execution_count": null,
   "metadata": {},
   "outputs": [],
   "source": []
  },
  {
   "cell_type": "markdown",
   "metadata": {},
   "source": [
    "# Model building : User Based Collaborative Filtering"
   ]
  },
  {
   "cell_type": "markdown",
   "metadata": {},
   "source": [
    "Combining the columns to get an feature on which I will apply NLP to convert it into vector"
   ]
  },
  {
   "cell_type": "code",
   "execution_count": 60,
   "metadata": {},
   "outputs": [],
   "source": [
    "#df['Product']=df['Product'].astype(str)\n",
    "#df['OrderStatus']=df['OrderStatus'].astype(str)\n",
    "#df['ProductCategory']=df['ProductCategory'].astype(str)\n",
    "#df['CustomerGender']=df['CustomerGender'].astype(str)\n",
    "#df['CustomerAge']=df['CustomerAge'].astype(str)\n",
    "#df['OrderAmount']=df['OrderAmount'].astype(str)\n",
    "#df['CustomerDeviceType']=df['CustomerDeviceType'].astype(str)\n",
    "#df['OrderStatus']=df['OrderStatus'].astype(str)\n",
    "#df['DeliveryPinCode']=df['DeliveryPinCode'].astype(str)\n",
    "#df['OrderPaymentMode']=df['OrderPaymentMode'].astype(str)\n",
    "\n"
   ]
  },
  {
   "cell_type": "markdown",
   "metadata": {},
   "source": [
    "Concating columns :"
   ]
  },
  {
   "cell_type": "code",
   "execution_count": 61,
   "metadata": {},
   "outputs": [],
   "source": [
    "#df['Transaction_Detail']=df['CustomerGender']+df['CustomerAge']+df['CustomerDeviceType']+df['OrderAmount']+df['OrderStatus']+df['DeliveryPinCode']+df['OrderPaymentMode']+df['ProductCategory']"
   ]
  },
  {
   "cell_type": "code",
   "execution_count": 62,
   "metadata": {},
   "outputs": [],
   "source": [
    "#df['Transaction_Detail']"
   ]
  },
  {
   "cell_type": "markdown",
   "metadata": {},
   "source": [
    "Dropping all the columns which are Concated:"
   ]
  },
  {
   "cell_type": "code",
   "execution_count": 63,
   "metadata": {},
   "outputs": [],
   "source": [
    "#df.drop(['CustomerGender','CustomerAge','CustomerDeviceType','OrderAmount','OrderStatus','DeliveryPinCode','OrderPaymentMode','ProductCategory'],axis=1, inplace=True)"
   ]
  },
  {
   "cell_type": "code",
   "execution_count": 64,
   "metadata": {},
   "outputs": [],
   "source": [
    "#df.drop(['CustomerEmailAddress','OrderId'],axis=1, inplace=True)"
   ]
  },
  {
   "cell_type": "code",
   "execution_count": 65,
   "metadata": {},
   "outputs": [],
   "source": [
    "#df"
   ]
  },
  {
   "cell_type": "code",
   "execution_count": 66,
   "metadata": {},
   "outputs": [],
   "source": [
    "#df.Transaction_Detail=df.Transaction_Detail.str.replace(' ', '')"
   ]
  },
  {
   "cell_type": "code",
   "execution_count": 67,
   "metadata": {},
   "outputs": [],
   "source": [
    "#df.Transaction_Detail=df.Transaction_Detail.str.replace('_', '')"
   ]
  },
  {
   "cell_type": "code",
   "execution_count": 68,
   "metadata": {},
   "outputs": [],
   "source": [
    "#df.Transaction_Detail=df.Transaction_Detail.astype('category')"
   ]
  },
  {
   "cell_type": "code",
   "execution_count": 69,
   "metadata": {},
   "outputs": [],
   "source": [
    "#df.Transaction_Detail"
   ]
  },
  {
   "cell_type": "code",
   "execution_count": 70,
   "metadata": {},
   "outputs": [],
   "source": [
    "#from sklearn.feature_extraction.text import TfidfVectorizer\n",
    "#tv=TfidfVectorizer(analyzer='word',use_idf=True,max_features=1000000,stop_words='english')\n",
    "#vec=tv.fit_transform(df['Transaction_Detail'])"
   ]
  },
  {
   "cell_type": "code",
   "execution_count": 71,
   "metadata": {},
   "outputs": [],
   "source": [
    "#vec.shape"
   ]
  },
  {
   "cell_type": "code",
   "execution_count": 72,
   "metadata": {},
   "outputs": [],
   "source": [
    "#type(vec)"
   ]
  },
  {
   "cell_type": "markdown",
   "metadata": {},
   "source": [
    "# Changing the approach :"
   ]
  },
  {
   "cell_type": "code",
   "execution_count": 73,
   "metadata": {},
   "outputs": [
    {
     "data": {
      "text/html": [
       "<div>\n",
       "<style scoped>\n",
       "    .dataframe tbody tr th:only-of-type {\n",
       "        vertical-align: middle;\n",
       "    }\n",
       "\n",
       "    .dataframe tbody tr th {\n",
       "        vertical-align: top;\n",
       "    }\n",
       "\n",
       "    .dataframe thead th {\n",
       "        text-align: right;\n",
       "    }\n",
       "</style>\n",
       "<table border=\"1\" class=\"dataframe\">\n",
       "  <thead>\n",
       "    <tr style=\"text-align: right;\">\n",
       "      <th></th>\n",
       "      <th>CustomerId</th>\n",
       "      <th>CustomerEmailAddress</th>\n",
       "      <th>CustomerGender</th>\n",
       "      <th>CustomerAge</th>\n",
       "      <th>CustomerDeviceType</th>\n",
       "      <th>OrderId</th>\n",
       "      <th>OrderAmount</th>\n",
       "      <th>Product</th>\n",
       "      <th>OrderStatus</th>\n",
       "      <th>DeliveryPinCode</th>\n",
       "      <th>OrderPaymentMode</th>\n",
       "      <th>ProductCategory</th>\n",
       "    </tr>\n",
       "  </thead>\n",
       "  <tbody>\n",
       "    <tr>\n",
       "      <td>0</td>\n",
       "      <td>Q8RV5E9KFX</td>\n",
       "      <td>bilhgbg@mail.com</td>\n",
       "      <td>Male</td>\n",
       "      <td>48</td>\n",
       "      <td>iOS</td>\n",
       "      <td>398629</td>\n",
       "      <td>10000</td>\n",
       "      <td>Google Home</td>\n",
       "      <td>Item Returned</td>\n",
       "      <td>560034</td>\n",
       "      <td>net_banking</td>\n",
       "      <td>Electronics</td>\n",
       "    </tr>\n",
       "    <tr>\n",
       "      <td>1</td>\n",
       "      <td>Q8RV5E9KFX</td>\n",
       "      <td>bilhgbg@mail.com</td>\n",
       "      <td>Male</td>\n",
       "      <td>48</td>\n",
       "      <td>iOS</td>\n",
       "      <td>2593111</td>\n",
       "      <td>5000</td>\n",
       "      <td>Dreams11 Gift Card</td>\n",
       "      <td>Item Returned</td>\n",
       "      <td>110001</td>\n",
       "      <td>credit_card</td>\n",
       "      <td>Gift Card</td>\n",
       "    </tr>\n",
       "    <tr>\n",
       "      <td>2</td>\n",
       "      <td>Q8RV5E9KFX</td>\n",
       "      <td>bilhgbg@mail.com</td>\n",
       "      <td>Male</td>\n",
       "      <td>48</td>\n",
       "      <td>iOS</td>\n",
       "      <td>2244234</td>\n",
       "      <td>500</td>\n",
       "      <td>sleepers</td>\n",
       "      <td>Item Returned</td>\n",
       "      <td>400050</td>\n",
       "      <td>upi</td>\n",
       "      <td>Footwear</td>\n",
       "    </tr>\n",
       "    <tr>\n",
       "      <td>3</td>\n",
       "      <td>Q8RV5E9KFX</td>\n",
       "      <td>bilhgbg@mail.com</td>\n",
       "      <td>Male</td>\n",
       "      <td>48</td>\n",
       "      <td>iOS</td>\n",
       "      <td>9622013</td>\n",
       "      <td>25000</td>\n",
       "      <td>Vedantu Gift Card</td>\n",
       "      <td>Delivered</td>\n",
       "      <td>110025</td>\n",
       "      <td>wallet</td>\n",
       "      <td>Gift Card</td>\n",
       "    </tr>\n",
       "    <tr>\n",
       "      <td>4</td>\n",
       "      <td>Q8RV5E9KFX</td>\n",
       "      <td>bilhgbg@mail.com</td>\n",
       "      <td>Male</td>\n",
       "      <td>48</td>\n",
       "      <td>iOS</td>\n",
       "      <td>8419436</td>\n",
       "      <td>5000</td>\n",
       "      <td>Sun Glasses</td>\n",
       "      <td>Item Returned</td>\n",
       "      <td>110025</td>\n",
       "      <td>credit_card</td>\n",
       "      <td>accessories</td>\n",
       "    </tr>\n",
       "    <tr>\n",
       "      <td>...</td>\n",
       "      <td>...</td>\n",
       "      <td>...</td>\n",
       "      <td>...</td>\n",
       "      <td>...</td>\n",
       "      <td>...</td>\n",
       "      <td>...</td>\n",
       "      <td>...</td>\n",
       "      <td>...</td>\n",
       "      <td>...</td>\n",
       "      <td>...</td>\n",
       "      <td>...</td>\n",
       "      <td>...</td>\n",
       "    </tr>\n",
       "    <tr>\n",
       "      <td>1754510</td>\n",
       "      <td>Y6BIVCODU7</td>\n",
       "      <td>jhiijkj@gmail.com</td>\n",
       "      <td>Male</td>\n",
       "      <td>26</td>\n",
       "      <td>Android</td>\n",
       "      <td>6198000</td>\n",
       "      <td>1000</td>\n",
       "      <td>ink pen</td>\n",
       "      <td>Payment Incomplete</td>\n",
       "      <td>560001</td>\n",
       "      <td>debit_card</td>\n",
       "      <td>stationery</td>\n",
       "    </tr>\n",
       "    <tr>\n",
       "      <td>1754511</td>\n",
       "      <td>Y6BIVCODU7</td>\n",
       "      <td>jhiijkj@gmail.com</td>\n",
       "      <td>Male</td>\n",
       "      <td>26</td>\n",
       "      <td>Android</td>\n",
       "      <td>7490043</td>\n",
       "      <td>1000</td>\n",
       "      <td>CultFit Voucher</td>\n",
       "      <td>Delivered</td>\n",
       "      <td>400050</td>\n",
       "      <td>debit_card</td>\n",
       "      <td>Fitness Voucher</td>\n",
       "    </tr>\n",
       "    <tr>\n",
       "      <td>1754512</td>\n",
       "      <td>Y6BIVCODU7</td>\n",
       "      <td>jhiijkj@gmail.com</td>\n",
       "      <td>Male</td>\n",
       "      <td>26</td>\n",
       "      <td>Android</td>\n",
       "      <td>432313</td>\n",
       "      <td>75000</td>\n",
       "      <td>Wood Furniture</td>\n",
       "      <td>Item Returned</td>\n",
       "      <td>560102</td>\n",
       "      <td>net_banking</td>\n",
       "      <td>Furniture</td>\n",
       "    </tr>\n",
       "    <tr>\n",
       "      <td>1754513</td>\n",
       "      <td>Y6BIVCODU7</td>\n",
       "      <td>jhiijkj@gmail.com</td>\n",
       "      <td>Male</td>\n",
       "      <td>26</td>\n",
       "      <td>Android</td>\n",
       "      <td>8881802</td>\n",
       "      <td>7000</td>\n",
       "      <td>Router</td>\n",
       "      <td>Delivered</td>\n",
       "      <td>400038</td>\n",
       "      <td>net_banking</td>\n",
       "      <td>Electronics</td>\n",
       "    </tr>\n",
       "    <tr>\n",
       "      <td>1754514</td>\n",
       "      <td>Y6BIVCODU7</td>\n",
       "      <td>jhiijkj@gmail.com</td>\n",
       "      <td>Male</td>\n",
       "      <td>26</td>\n",
       "      <td>Android</td>\n",
       "      <td>502102</td>\n",
       "      <td>200</td>\n",
       "      <td>shaving cream</td>\n",
       "      <td>Delivered</td>\n",
       "      <td>400038</td>\n",
       "      <td>debit_card</td>\n",
       "      <td>Bodyshop</td>\n",
       "    </tr>\n",
       "  </tbody>\n",
       "</table>\n",
       "<p>1754515 rows × 12 columns</p>\n",
       "</div>"
      ],
      "text/plain": [
       "         CustomerId CustomerEmailAddress CustomerGender  CustomerAge  \\\n",
       "0        Q8RV5E9KFX     bilhgbg@mail.com           Male           48   \n",
       "1        Q8RV5E9KFX     bilhgbg@mail.com           Male           48   \n",
       "2        Q8RV5E9KFX     bilhgbg@mail.com           Male           48   \n",
       "3        Q8RV5E9KFX     bilhgbg@mail.com           Male           48   \n",
       "4        Q8RV5E9KFX     bilhgbg@mail.com           Male           48   \n",
       "...             ...                  ...            ...          ...   \n",
       "1754510  Y6BIVCODU7    jhiijkj@gmail.com           Male           26   \n",
       "1754511  Y6BIVCODU7    jhiijkj@gmail.com           Male           26   \n",
       "1754512  Y6BIVCODU7    jhiijkj@gmail.com           Male           26   \n",
       "1754513  Y6BIVCODU7    jhiijkj@gmail.com           Male           26   \n",
       "1754514  Y6BIVCODU7    jhiijkj@gmail.com           Male           26   \n",
       "\n",
       "        CustomerDeviceType  OrderId  OrderAmount             Product  \\\n",
       "0                      iOS   398629        10000         Google Home   \n",
       "1                      iOS  2593111         5000  Dreams11 Gift Card   \n",
       "2                      iOS  2244234          500            sleepers   \n",
       "3                      iOS  9622013        25000   Vedantu Gift Card   \n",
       "4                      iOS  8419436         5000         Sun Glasses   \n",
       "...                    ...      ...          ...                 ...   \n",
       "1754510            Android  6198000         1000             ink pen   \n",
       "1754511            Android  7490043         1000     CultFit Voucher   \n",
       "1754512            Android   432313        75000      Wood Furniture   \n",
       "1754513            Android  8881802         7000              Router   \n",
       "1754514            Android   502102          200       shaving cream   \n",
       "\n",
       "                OrderStatus  DeliveryPinCode OrderPaymentMode  ProductCategory  \n",
       "0             Item Returned           560034      net_banking      Electronics  \n",
       "1             Item Returned           110001      credit_card        Gift Card  \n",
       "2             Item Returned           400050              upi         Footwear  \n",
       "3                 Delivered           110025           wallet        Gift Card  \n",
       "4             Item Returned           110025      credit_card      accessories  \n",
       "...                     ...              ...              ...              ...  \n",
       "1754510  Payment Incomplete           560001       debit_card       stationery  \n",
       "1754511           Delivered           400050       debit_card  Fitness Voucher  \n",
       "1754512       Item Returned           560102      net_banking        Furniture  \n",
       "1754513           Delivered           400038      net_banking      Electronics  \n",
       "1754514           Delivered           400038       debit_card         Bodyshop  \n",
       "\n",
       "[1754515 rows x 12 columns]"
      ]
     },
     "execution_count": 73,
     "metadata": {},
     "output_type": "execute_result"
    }
   ],
   "source": [
    "df"
   ]
  },
  {
   "cell_type": "code",
   "execution_count": 74,
   "metadata": {},
   "outputs": [],
   "source": [
    "df1=df[['CustomerId','ProductCategory']]"
   ]
  },
  {
   "cell_type": "code",
   "execution_count": 75,
   "metadata": {},
   "outputs": [
    {
     "data": {
      "text/html": [
       "<div>\n",
       "<style scoped>\n",
       "    .dataframe tbody tr th:only-of-type {\n",
       "        vertical-align: middle;\n",
       "    }\n",
       "\n",
       "    .dataframe tbody tr th {\n",
       "        vertical-align: top;\n",
       "    }\n",
       "\n",
       "    .dataframe thead th {\n",
       "        text-align: right;\n",
       "    }\n",
       "</style>\n",
       "<table border=\"1\" class=\"dataframe\">\n",
       "  <thead>\n",
       "    <tr style=\"text-align: right;\">\n",
       "      <th></th>\n",
       "      <th>CustomerId</th>\n",
       "      <th>ProductCategory</th>\n",
       "    </tr>\n",
       "  </thead>\n",
       "  <tbody>\n",
       "    <tr>\n",
       "      <td>0</td>\n",
       "      <td>Q8RV5E9KFX</td>\n",
       "      <td>Electronics</td>\n",
       "    </tr>\n",
       "    <tr>\n",
       "      <td>1</td>\n",
       "      <td>Q8RV5E9KFX</td>\n",
       "      <td>Gift Card</td>\n",
       "    </tr>\n",
       "    <tr>\n",
       "      <td>2</td>\n",
       "      <td>Q8RV5E9KFX</td>\n",
       "      <td>Footwear</td>\n",
       "    </tr>\n",
       "    <tr>\n",
       "      <td>3</td>\n",
       "      <td>Q8RV5E9KFX</td>\n",
       "      <td>Gift Card</td>\n",
       "    </tr>\n",
       "    <tr>\n",
       "      <td>4</td>\n",
       "      <td>Q8RV5E9KFX</td>\n",
       "      <td>accessories</td>\n",
       "    </tr>\n",
       "    <tr>\n",
       "      <td>...</td>\n",
       "      <td>...</td>\n",
       "      <td>...</td>\n",
       "    </tr>\n",
       "    <tr>\n",
       "      <td>1754510</td>\n",
       "      <td>Y6BIVCODU7</td>\n",
       "      <td>stationery</td>\n",
       "    </tr>\n",
       "    <tr>\n",
       "      <td>1754511</td>\n",
       "      <td>Y6BIVCODU7</td>\n",
       "      <td>Fitness Voucher</td>\n",
       "    </tr>\n",
       "    <tr>\n",
       "      <td>1754512</td>\n",
       "      <td>Y6BIVCODU7</td>\n",
       "      <td>Furniture</td>\n",
       "    </tr>\n",
       "    <tr>\n",
       "      <td>1754513</td>\n",
       "      <td>Y6BIVCODU7</td>\n",
       "      <td>Electronics</td>\n",
       "    </tr>\n",
       "    <tr>\n",
       "      <td>1754514</td>\n",
       "      <td>Y6BIVCODU7</td>\n",
       "      <td>Bodyshop</td>\n",
       "    </tr>\n",
       "  </tbody>\n",
       "</table>\n",
       "<p>1754515 rows × 2 columns</p>\n",
       "</div>"
      ],
      "text/plain": [
       "         CustomerId  ProductCategory\n",
       "0        Q8RV5E9KFX      Electronics\n",
       "1        Q8RV5E9KFX        Gift Card\n",
       "2        Q8RV5E9KFX         Footwear\n",
       "3        Q8RV5E9KFX        Gift Card\n",
       "4        Q8RV5E9KFX      accessories\n",
       "...             ...              ...\n",
       "1754510  Y6BIVCODU7       stationery\n",
       "1754511  Y6BIVCODU7  Fitness Voucher\n",
       "1754512  Y6BIVCODU7        Furniture\n",
       "1754513  Y6BIVCODU7      Electronics\n",
       "1754514  Y6BIVCODU7         Bodyshop\n",
       "\n",
       "[1754515 rows x 2 columns]"
      ]
     },
     "execution_count": 75,
     "metadata": {},
     "output_type": "execute_result"
    }
   ],
   "source": [
    "df1"
   ]
  },
  {
   "cell_type": "code",
   "execution_count": 76,
   "metadata": {},
   "outputs": [],
   "source": [
    "df2=df1.iloc[:1200000:]"
   ]
  },
  {
   "cell_type": "code",
   "execution_count": 77,
   "metadata": {},
   "outputs": [
    {
     "name": "stdout",
     "output_type": "stream",
     "text": [
      "(840000, 2)\n",
      "(360000, 2)\n"
     ]
    }
   ],
   "source": [
    "from sklearn.model_selection import train_test_split\n",
    "\n",
    "X_train, X_test = train_test_split(df2, test_size = 0.3, random_state = 42)\n",
    "\n",
    "print(X_train.shape)\n",
    "print(X_test.shape)"
   ]
  },
  {
   "cell_type": "code",
   "execution_count": 78,
   "metadata": {},
   "outputs": [],
   "source": [
    "df_train=X_train.pivot_table(index = ['CustomerId'],columns= 'ProductCategory', aggfunc= 'size').fillna(0)"
   ]
  },
  {
   "cell_type": "code",
   "execution_count": 79,
   "metadata": {},
   "outputs": [],
   "source": [
    "df_test=X_test.pivot_table(index = ['CustomerId'],columns= 'ProductCategory', aggfunc= 'size').fillna(0)"
   ]
  },
  {
   "cell_type": "code",
   "execution_count": 80,
   "metadata": {},
   "outputs": [
    {
     "data": {
      "text/plain": [
       "(68335, 15)"
      ]
     },
     "execution_count": 80,
     "metadata": {},
     "output_type": "execute_result"
    }
   ],
   "source": [
    "df_train.shape"
   ]
  },
  {
   "cell_type": "code",
   "execution_count": 81,
   "metadata": {},
   "outputs": [
    {
     "data": {
      "text/html": [
       "<div>\n",
       "<style scoped>\n",
       "    .dataframe tbody tr th:only-of-type {\n",
       "        vertical-align: middle;\n",
       "    }\n",
       "\n",
       "    .dataframe tbody tr th {\n",
       "        vertical-align: top;\n",
       "    }\n",
       "\n",
       "    .dataframe thead th {\n",
       "        text-align: right;\n",
       "    }\n",
       "</style>\n",
       "<table border=\"1\" class=\"dataframe\">\n",
       "  <thead>\n",
       "    <tr style=\"text-align: right;\">\n",
       "      <th>ProductCategory</th>\n",
       "      <th>Bodyshop</th>\n",
       "      <th>Electronics</th>\n",
       "      <th>Entertainment Voucher</th>\n",
       "      <th>Fitness Voucher</th>\n",
       "      <th>Food &amp; Beverage</th>\n",
       "      <th>Footwear</th>\n",
       "      <th>Furniture</th>\n",
       "      <th>Gift Card</th>\n",
       "      <th>Jewellery</th>\n",
       "      <th>Men Clothing</th>\n",
       "      <th>Travel Voucher</th>\n",
       "      <th>Women &amp; Men Clothing</th>\n",
       "      <th>Women Clothing</th>\n",
       "      <th>accessories</th>\n",
       "      <th>stationery</th>\n",
       "    </tr>\n",
       "    <tr>\n",
       "      <th>CustomerId</th>\n",
       "      <th></th>\n",
       "      <th></th>\n",
       "      <th></th>\n",
       "      <th></th>\n",
       "      <th></th>\n",
       "      <th></th>\n",
       "      <th></th>\n",
       "      <th></th>\n",
       "      <th></th>\n",
       "      <th></th>\n",
       "      <th></th>\n",
       "      <th></th>\n",
       "      <th></th>\n",
       "      <th></th>\n",
       "      <th></th>\n",
       "    </tr>\n",
       "  </thead>\n",
       "  <tbody>\n",
       "    <tr>\n",
       "      <td>0127NRGL6D</td>\n",
       "      <td>0.0</td>\n",
       "      <td>2.0</td>\n",
       "      <td>0.0</td>\n",
       "      <td>0.0</td>\n",
       "      <td>0.0</td>\n",
       "      <td>2.0</td>\n",
       "      <td>1.0</td>\n",
       "      <td>3.0</td>\n",
       "      <td>0.0</td>\n",
       "      <td>0.0</td>\n",
       "      <td>0.0</td>\n",
       "      <td>0.0</td>\n",
       "      <td>1.0</td>\n",
       "      <td>0.0</td>\n",
       "      <td>0.0</td>\n",
       "    </tr>\n",
       "    <tr>\n",
       "      <td>012ILK3ZTP</td>\n",
       "      <td>0.0</td>\n",
       "      <td>2.0</td>\n",
       "      <td>0.0</td>\n",
       "      <td>0.0</td>\n",
       "      <td>0.0</td>\n",
       "      <td>0.0</td>\n",
       "      <td>0.0</td>\n",
       "      <td>1.0</td>\n",
       "      <td>0.0</td>\n",
       "      <td>0.0</td>\n",
       "      <td>0.0</td>\n",
       "      <td>0.0</td>\n",
       "      <td>1.0</td>\n",
       "      <td>2.0</td>\n",
       "      <td>1.0</td>\n",
       "    </tr>\n",
       "    <tr>\n",
       "      <td>012LB9SYXT</td>\n",
       "      <td>1.0</td>\n",
       "      <td>3.0</td>\n",
       "      <td>2.0</td>\n",
       "      <td>0.0</td>\n",
       "      <td>0.0</td>\n",
       "      <td>1.0</td>\n",
       "      <td>1.0</td>\n",
       "      <td>1.0</td>\n",
       "      <td>0.0</td>\n",
       "      <td>0.0</td>\n",
       "      <td>1.0</td>\n",
       "      <td>1.0</td>\n",
       "      <td>0.0</td>\n",
       "      <td>0.0</td>\n",
       "      <td>0.0</td>\n",
       "    </tr>\n",
       "    <tr>\n",
       "      <td>012RTOSXZH</td>\n",
       "      <td>0.0</td>\n",
       "      <td>1.0</td>\n",
       "      <td>0.0</td>\n",
       "      <td>0.0</td>\n",
       "      <td>0.0</td>\n",
       "      <td>0.0</td>\n",
       "      <td>0.0</td>\n",
       "      <td>0.0</td>\n",
       "      <td>0.0</td>\n",
       "      <td>2.0</td>\n",
       "      <td>0.0</td>\n",
       "      <td>0.0</td>\n",
       "      <td>0.0</td>\n",
       "      <td>0.0</td>\n",
       "      <td>1.0</td>\n",
       "    </tr>\n",
       "    <tr>\n",
       "      <td>012V8B4AFR</td>\n",
       "      <td>0.0</td>\n",
       "      <td>0.0</td>\n",
       "      <td>0.0</td>\n",
       "      <td>0.0</td>\n",
       "      <td>0.0</td>\n",
       "      <td>0.0</td>\n",
       "      <td>1.0</td>\n",
       "      <td>1.0</td>\n",
       "      <td>0.0</td>\n",
       "      <td>0.0</td>\n",
       "      <td>0.0</td>\n",
       "      <td>1.0</td>\n",
       "      <td>0.0</td>\n",
       "      <td>1.0</td>\n",
       "      <td>0.0</td>\n",
       "    </tr>\n",
       "  </tbody>\n",
       "</table>\n",
       "</div>"
      ],
      "text/plain": [
       "ProductCategory  Bodyshop  Electronics  Entertainment Voucher  \\\n",
       "CustomerId                                                      \n",
       "0127NRGL6D            0.0          2.0                    0.0   \n",
       "012ILK3ZTP            0.0          2.0                    0.0   \n",
       "012LB9SYXT            1.0          3.0                    2.0   \n",
       "012RTOSXZH            0.0          1.0                    0.0   \n",
       "012V8B4AFR            0.0          0.0                    0.0   \n",
       "\n",
       "ProductCategory  Fitness Voucher  Food & Beverage  Footwear  Furniture  \\\n",
       "CustomerId                                                               \n",
       "0127NRGL6D                   0.0              0.0       2.0        1.0   \n",
       "012ILK3ZTP                   0.0              0.0       0.0        0.0   \n",
       "012LB9SYXT                   0.0              0.0       1.0        1.0   \n",
       "012RTOSXZH                   0.0              0.0       0.0        0.0   \n",
       "012V8B4AFR                   0.0              0.0       0.0        1.0   \n",
       "\n",
       "ProductCategory  Gift Card  Jewellery  Men Clothing  Travel Voucher  \\\n",
       "CustomerId                                                            \n",
       "0127NRGL6D             3.0        0.0           0.0             0.0   \n",
       "012ILK3ZTP             1.0        0.0           0.0             0.0   \n",
       "012LB9SYXT             1.0        0.0           0.0             1.0   \n",
       "012RTOSXZH             0.0        0.0           2.0             0.0   \n",
       "012V8B4AFR             1.0        0.0           0.0             0.0   \n",
       "\n",
       "ProductCategory  Women & Men Clothing  Women Clothing  accessories  stationery  \n",
       "CustomerId                                                                      \n",
       "0127NRGL6D                        0.0             1.0          0.0         0.0  \n",
       "012ILK3ZTP                        0.0             1.0          2.0         1.0  \n",
       "012LB9SYXT                        1.0             0.0          0.0         0.0  \n",
       "012RTOSXZH                        0.0             0.0          0.0         1.0  \n",
       "012V8B4AFR                        1.0             0.0          1.0         0.0  "
      ]
     },
     "execution_count": 81,
     "metadata": {},
     "output_type": "execute_result"
    }
   ],
   "source": [
    "df_test.head()"
   ]
  },
  {
   "cell_type": "code",
   "execution_count": null,
   "metadata": {},
   "outputs": [],
   "source": []
  },
  {
   "cell_type": "code",
   "execution_count": null,
   "metadata": {},
   "outputs": [],
   "source": []
  },
  {
   "cell_type": "markdown",
   "metadata": {},
   "source": [
    "# Using Cosine similarity"
   ]
  },
  {
   "cell_type": "code",
   "execution_count": 82,
   "metadata": {},
   "outputs": [
    {
     "name": "stderr",
     "output_type": "stream",
     "text": [
      "C:\\Python27\\lib\\site-packages\\sklearn\\metrics\\pairwise.py:56: DeprecationWarning: `np.float` is a deprecated alias for the builtin `float`. To silence this warning, use `float` by itself. Doing this will not modify any behavior and is safe. If you specifically wanted the numpy scalar type, use `np.float64` here.\n",
      "Deprecated in NumPy 1.20; for more details and guidance: https://numpy.org/devdocs/release/1.20.0-notes.html#deprecations\n",
      "  dtype = np.float\n"
     ]
    },
    {
     "name": "stdout",
     "output_type": "stream",
     "text": [
      "[[1.         0.30779351 0.26013299 ... 0.21764288 0.64978629 0.74167708]\n",
      " [0.30779351 1.         0.         ... 0.84852814 0.53333333 0.56225353]\n",
      " [0.26013299 0.         1.         ... 0.         0.39440532 0.33942212]\n",
      " ...\n",
      " [0.21764288 0.84852814 0.         ... 1.         0.56568542 0.62475802]\n",
      " [0.64978629 0.53333333 0.39440532 ... 0.56568542 1.         0.66934944]\n",
      " [0.74167708 0.56225353 0.33942212 ... 0.62475802 0.66934944 1.        ]]\n",
      "(68335, 68335)\n"
     ]
    }
   ],
   "source": [
    "from sklearn.metrics.pairwise import cosine_similarity\n",
    "\n",
    "# customer Similarity Matrix using Cosine similarity as a similarity measure between Customers buying pattern\n",
    "customer_similarity = cosine_similarity(df_train)\n",
    "customer_similarity[np.isnan(customer_similarity)] = 0\n",
    "print(customer_similarity)\n",
    "print(customer_similarity.shape)"
   ]
  },
  {
   "cell_type": "code",
   "execution_count": null,
   "metadata": {},
   "outputs": [],
   "source": []
  },
  {
   "cell_type": "code",
   "execution_count": 83,
   "metadata": {},
   "outputs": [
    {
     "data": {
      "text/plain": [
       "array([[ 16120.06216143, 115008.02689148,  33207.22804204, ...,\n",
       "         17602.22719585,  45869.38761227,  26803.29864768],\n",
       "       [ 18881.82559134, 157327.67010852,  31386.96624694, ...,\n",
       "         19108.33216574,  56531.44112351,  31534.06172574],\n",
       "       [  9318.73848473,  61664.40964814,  15425.57120794, ...,\n",
       "          9424.83377124,  24581.92247655,  19037.31113106],\n",
       "       ...,\n",
       "       [ 17286.31665437, 148579.28023249,  28711.23506294, ...,\n",
       "         17480.56207668,  45756.07306436,  28853.38793713],\n",
       "       [ 20635.7791343 , 157955.63958212,  36993.73177997, ...,\n",
       "         21703.72057566,  54471.39243616,  38541.50565605],\n",
       "       [ 20467.92863639, 148164.32756666,  37328.88167837, ...,\n",
       "         19653.19065152,  53985.74322954,  32369.26205518]])"
      ]
     },
     "execution_count": 83,
     "metadata": {},
     "output_type": "execute_result"
    }
   ],
   "source": [
    "customer_buying_category = np.dot(customer_similarity,df_train )\n",
    "customer_buying_category"
   ]
  },
  {
   "cell_type": "code",
   "execution_count": 84,
   "metadata": {},
   "outputs": [],
   "source": [
    "df_train_notbroughtProducts = df_train.copy()\n",
    "df_test_notbroughtProducts = df_test.copy()\n"
   ]
  },
  {
   "cell_type": "code",
   "execution_count": 85,
   "metadata": {},
   "outputs": [],
   "source": [
    "df_train_notbroughtProducts=np.where(df_train_notbroughtProducts >0 , 0, 1)"
   ]
  },
  {
   "cell_type": "code",
   "execution_count": 86,
   "metadata": {},
   "outputs": [
    {
     "data": {
      "text/plain": [
       "array([[16120.06216143,     0.        ,     0.        , ...,\n",
       "            0.        ,     0.        , 26803.29864768],\n",
       "       [18881.82559134,     0.        , 31386.96624694, ...,\n",
       "        19108.33216574,     0.        , 31534.06172574],\n",
       "       [ 9318.73848473, 61664.40964814, 15425.57120794, ...,\n",
       "         9424.83377124, 24581.92247655,     0.        ],\n",
       "       ...,\n",
       "       [17286.31665437,     0.        , 28711.23506294, ...,\n",
       "        17480.56207668, 45756.07306436, 28853.38793713],\n",
       "       [20635.7791343 ,     0.        ,     0.        , ...,\n",
       "            0.        , 54471.39243616,     0.        ],\n",
       "       [    0.        ,     0.        ,     0.        , ...,\n",
       "        19653.19065152,     0.        , 32369.26205518]])"
      ]
     },
     "execution_count": 86,
     "metadata": {},
     "output_type": "execute_result"
    }
   ],
   "source": [
    "customer_buying_category_final = np.multiply(customer_buying_category, df_train_notbroughtProducts)\n",
    "customer_buying_category_final"
   ]
  },
  {
   "cell_type": "code",
   "execution_count": 87,
   "metadata": {},
   "outputs": [],
   "source": [
    "customer_buying_category_final1= pd.DataFrame(customer_buying_category_final, columns = df_train.columns, index = df_train.index)\n"
   ]
  },
  {
   "cell_type": "code",
   "execution_count": 88,
   "metadata": {},
   "outputs": [
    {
     "data": {
      "text/html": [
       "<div>\n",
       "<style scoped>\n",
       "    .dataframe tbody tr th:only-of-type {\n",
       "        vertical-align: middle;\n",
       "    }\n",
       "\n",
       "    .dataframe tbody tr th {\n",
       "        vertical-align: top;\n",
       "    }\n",
       "\n",
       "    .dataframe thead th {\n",
       "        text-align: right;\n",
       "    }\n",
       "</style>\n",
       "<table border=\"1\" class=\"dataframe\">\n",
       "  <thead>\n",
       "    <tr style=\"text-align: right;\">\n",
       "      <th>ProductCategory</th>\n",
       "      <th>Bodyshop</th>\n",
       "      <th>Electronics</th>\n",
       "      <th>Entertainment Voucher</th>\n",
       "      <th>Fitness Voucher</th>\n",
       "      <th>Food &amp; Beverage</th>\n",
       "      <th>Footwear</th>\n",
       "      <th>Furniture</th>\n",
       "      <th>Gift Card</th>\n",
       "      <th>Jewellery</th>\n",
       "      <th>Men Clothing</th>\n",
       "      <th>Travel Voucher</th>\n",
       "      <th>Women &amp; Men Clothing</th>\n",
       "      <th>Women Clothing</th>\n",
       "      <th>accessories</th>\n",
       "      <th>stationery</th>\n",
       "    </tr>\n",
       "    <tr>\n",
       "      <th>CustomerId</th>\n",
       "      <th></th>\n",
       "      <th></th>\n",
       "      <th></th>\n",
       "      <th></th>\n",
       "      <th></th>\n",
       "      <th></th>\n",
       "      <th></th>\n",
       "      <th></th>\n",
       "      <th></th>\n",
       "      <th></th>\n",
       "      <th></th>\n",
       "      <th></th>\n",
       "      <th></th>\n",
       "      <th></th>\n",
       "      <th></th>\n",
       "    </tr>\n",
       "  </thead>\n",
       "  <tbody>\n",
       "    <tr>\n",
       "      <td>0127NRGL6D</td>\n",
       "      <td>16120.062161</td>\n",
       "      <td>0.000000</td>\n",
       "      <td>0.000000</td>\n",
       "      <td>10947.090388</td>\n",
       "      <td>0.000000</td>\n",
       "      <td>16168.693332</td>\n",
       "      <td>11077.986089</td>\n",
       "      <td>0.000000</td>\n",
       "      <td>10870.681205</td>\n",
       "      <td>0.000000</td>\n",
       "      <td>0.000000</td>\n",
       "      <td>21633.268595</td>\n",
       "      <td>0.000000</td>\n",
       "      <td>0.000000</td>\n",
       "      <td>26803.298648</td>\n",
       "    </tr>\n",
       "    <tr>\n",
       "      <td>012ILK3ZTP</td>\n",
       "      <td>18881.825591</td>\n",
       "      <td>0.000000</td>\n",
       "      <td>31386.966247</td>\n",
       "      <td>12812.831816</td>\n",
       "      <td>6472.818581</td>\n",
       "      <td>18953.329783</td>\n",
       "      <td>12971.515148</td>\n",
       "      <td>73800.575394</td>\n",
       "      <td>12790.731156</td>\n",
       "      <td>19091.746197</td>\n",
       "      <td>37505.674297</td>\n",
       "      <td>25291.983252</td>\n",
       "      <td>19108.332166</td>\n",
       "      <td>0.000000</td>\n",
       "      <td>31534.061726</td>\n",
       "    </tr>\n",
       "    <tr>\n",
       "      <td>012JSI4XBW</td>\n",
       "      <td>9318.738485</td>\n",
       "      <td>61664.409648</td>\n",
       "      <td>15425.571208</td>\n",
       "      <td>6327.806756</td>\n",
       "      <td>3185.563382</td>\n",
       "      <td>9325.621865</td>\n",
       "      <td>6399.692982</td>\n",
       "      <td>0.000000</td>\n",
       "      <td>6288.050401</td>\n",
       "      <td>0.000000</td>\n",
       "      <td>18524.772747</td>\n",
       "      <td>0.000000</td>\n",
       "      <td>9424.833771</td>\n",
       "      <td>24581.922477</td>\n",
       "      <td>0.000000</td>\n",
       "    </tr>\n",
       "    <tr>\n",
       "      <td>012LB9SYXT</td>\n",
       "      <td>18520.303220</td>\n",
       "      <td>0.000000</td>\n",
       "      <td>30760.873774</td>\n",
       "      <td>12570.213371</td>\n",
       "      <td>6334.225667</td>\n",
       "      <td>0.000000</td>\n",
       "      <td>12711.686643</td>\n",
       "      <td>72335.588175</td>\n",
       "      <td>12524.588929</td>\n",
       "      <td>0.000000</td>\n",
       "      <td>0.000000</td>\n",
       "      <td>0.000000</td>\n",
       "      <td>18736.040008</td>\n",
       "      <td>0.000000</td>\n",
       "      <td>0.000000</td>\n",
       "    </tr>\n",
       "    <tr>\n",
       "      <td>012RTOSXZH</td>\n",
       "      <td>0.000000</td>\n",
       "      <td>0.000000</td>\n",
       "      <td>33577.501466</td>\n",
       "      <td>13696.544439</td>\n",
       "      <td>6956.727170</td>\n",
       "      <td>20293.751162</td>\n",
       "      <td>13878.752717</td>\n",
       "      <td>0.000000</td>\n",
       "      <td>13677.017242</td>\n",
       "      <td>20412.253019</td>\n",
       "      <td>0.000000</td>\n",
       "      <td>27106.957629</td>\n",
       "      <td>20428.815812</td>\n",
       "      <td>53365.830044</td>\n",
       "      <td>33701.507549</td>\n",
       "    </tr>\n",
       "    <tr>\n",
       "      <td>...</td>\n",
       "      <td>...</td>\n",
       "      <td>...</td>\n",
       "      <td>...</td>\n",
       "      <td>...</td>\n",
       "      <td>...</td>\n",
       "      <td>...</td>\n",
       "      <td>...</td>\n",
       "      <td>...</td>\n",
       "      <td>...</td>\n",
       "      <td>...</td>\n",
       "      <td>...</td>\n",
       "      <td>...</td>\n",
       "      <td>...</td>\n",
       "      <td>...</td>\n",
       "      <td>...</td>\n",
       "    </tr>\n",
       "    <tr>\n",
       "      <td>ZYVRG5SHD7</td>\n",
       "      <td>21408.201606</td>\n",
       "      <td>0.000000</td>\n",
       "      <td>0.000000</td>\n",
       "      <td>14515.588283</td>\n",
       "      <td>0.000000</td>\n",
       "      <td>21482.713428</td>\n",
       "      <td>14700.745800</td>\n",
       "      <td>0.000000</td>\n",
       "      <td>0.000000</td>\n",
       "      <td>21627.104484</td>\n",
       "      <td>42490.369766</td>\n",
       "      <td>28672.355477</td>\n",
       "      <td>21644.188572</td>\n",
       "      <td>0.000000</td>\n",
       "      <td>35678.481694</td>\n",
       "    </tr>\n",
       "    <tr>\n",
       "      <td>ZYW5JUC9TM</td>\n",
       "      <td>0.000000</td>\n",
       "      <td>0.000000</td>\n",
       "      <td>0.000000</td>\n",
       "      <td>13377.424895</td>\n",
       "      <td>6783.178471</td>\n",
       "      <td>19796.387303</td>\n",
       "      <td>13544.031383</td>\n",
       "      <td>0.000000</td>\n",
       "      <td>0.000000</td>\n",
       "      <td>19919.466764</td>\n",
       "      <td>0.000000</td>\n",
       "      <td>0.000000</td>\n",
       "      <td>0.000000</td>\n",
       "      <td>52089.596223</td>\n",
       "      <td>32887.168545</td>\n",
       "    </tr>\n",
       "    <tr>\n",
       "      <td>ZYWC76SJV3</td>\n",
       "      <td>17286.316654</td>\n",
       "      <td>0.000000</td>\n",
       "      <td>28711.235063</td>\n",
       "      <td>11722.526548</td>\n",
       "      <td>5944.790243</td>\n",
       "      <td>17352.018854</td>\n",
       "      <td>0.000000</td>\n",
       "      <td>67605.187976</td>\n",
       "      <td>11709.196404</td>\n",
       "      <td>17468.259088</td>\n",
       "      <td>34279.779054</td>\n",
       "      <td>23101.986068</td>\n",
       "      <td>17480.562077</td>\n",
       "      <td>45756.073064</td>\n",
       "      <td>28853.387937</td>\n",
       "    </tr>\n",
       "    <tr>\n",
       "      <td>ZYXABSMO0U</td>\n",
       "      <td>20635.779134</td>\n",
       "      <td>0.000000</td>\n",
       "      <td>0.000000</td>\n",
       "      <td>0.000000</td>\n",
       "      <td>7092.489639</td>\n",
       "      <td>0.000000</td>\n",
       "      <td>14164.280374</td>\n",
       "      <td>0.000000</td>\n",
       "      <td>0.000000</td>\n",
       "      <td>0.000000</td>\n",
       "      <td>0.000000</td>\n",
       "      <td>27629.965338</td>\n",
       "      <td>0.000000</td>\n",
       "      <td>54471.392436</td>\n",
       "      <td>0.000000</td>\n",
       "    </tr>\n",
       "    <tr>\n",
       "      <td>ZYXOTLGBRA</td>\n",
       "      <td>0.000000</td>\n",
       "      <td>0.000000</td>\n",
       "      <td>0.000000</td>\n",
       "      <td>13202.952932</td>\n",
       "      <td>6683.883234</td>\n",
       "      <td>19506.812172</td>\n",
       "      <td>0.000000</td>\n",
       "      <td>0.000000</td>\n",
       "      <td>0.000000</td>\n",
       "      <td>0.000000</td>\n",
       "      <td>38614.707688</td>\n",
       "      <td>0.000000</td>\n",
       "      <td>19653.190652</td>\n",
       "      <td>0.000000</td>\n",
       "      <td>32369.262055</td>\n",
       "    </tr>\n",
       "  </tbody>\n",
       "</table>\n",
       "<p>68335 rows × 15 columns</p>\n",
       "</div>"
      ],
      "text/plain": [
       "ProductCategory      Bodyshop   Electronics  Entertainment Voucher  \\\n",
       "CustomerId                                                           \n",
       "0127NRGL6D       16120.062161      0.000000               0.000000   \n",
       "012ILK3ZTP       18881.825591      0.000000           31386.966247   \n",
       "012JSI4XBW        9318.738485  61664.409648           15425.571208   \n",
       "012LB9SYXT       18520.303220      0.000000           30760.873774   \n",
       "012RTOSXZH           0.000000      0.000000           33577.501466   \n",
       "...                       ...           ...                    ...   \n",
       "ZYVRG5SHD7       21408.201606      0.000000               0.000000   \n",
       "ZYW5JUC9TM           0.000000      0.000000               0.000000   \n",
       "ZYWC76SJV3       17286.316654      0.000000           28711.235063   \n",
       "ZYXABSMO0U       20635.779134      0.000000               0.000000   \n",
       "ZYXOTLGBRA           0.000000      0.000000               0.000000   \n",
       "\n",
       "ProductCategory  Fitness Voucher  Food & Beverage      Footwear     Furniture  \\\n",
       "CustomerId                                                                      \n",
       "0127NRGL6D          10947.090388         0.000000  16168.693332  11077.986089   \n",
       "012ILK3ZTP          12812.831816      6472.818581  18953.329783  12971.515148   \n",
       "012JSI4XBW           6327.806756      3185.563382   9325.621865   6399.692982   \n",
       "012LB9SYXT          12570.213371      6334.225667      0.000000  12711.686643   \n",
       "012RTOSXZH          13696.544439      6956.727170  20293.751162  13878.752717   \n",
       "...                          ...              ...           ...           ...   \n",
       "ZYVRG5SHD7          14515.588283         0.000000  21482.713428  14700.745800   \n",
       "ZYW5JUC9TM          13377.424895      6783.178471  19796.387303  13544.031383   \n",
       "ZYWC76SJV3          11722.526548      5944.790243  17352.018854      0.000000   \n",
       "ZYXABSMO0U              0.000000      7092.489639      0.000000  14164.280374   \n",
       "ZYXOTLGBRA          13202.952932      6683.883234  19506.812172      0.000000   \n",
       "\n",
       "ProductCategory     Gift Card     Jewellery  Men Clothing  Travel Voucher  \\\n",
       "CustomerId                                                                  \n",
       "0127NRGL6D           0.000000  10870.681205      0.000000        0.000000   \n",
       "012ILK3ZTP       73800.575394  12790.731156  19091.746197    37505.674297   \n",
       "012JSI4XBW           0.000000   6288.050401      0.000000    18524.772747   \n",
       "012LB9SYXT       72335.588175  12524.588929      0.000000        0.000000   \n",
       "012RTOSXZH           0.000000  13677.017242  20412.253019        0.000000   \n",
       "...                       ...           ...           ...             ...   \n",
       "ZYVRG5SHD7           0.000000      0.000000  21627.104484    42490.369766   \n",
       "ZYW5JUC9TM           0.000000      0.000000  19919.466764        0.000000   \n",
       "ZYWC76SJV3       67605.187976  11709.196404  17468.259088    34279.779054   \n",
       "ZYXABSMO0U           0.000000      0.000000      0.000000        0.000000   \n",
       "ZYXOTLGBRA           0.000000      0.000000      0.000000    38614.707688   \n",
       "\n",
       "ProductCategory  Women & Men Clothing  Women Clothing   accessories  \\\n",
       "CustomerId                                                            \n",
       "0127NRGL6D               21633.268595        0.000000      0.000000   \n",
       "012ILK3ZTP               25291.983252    19108.332166      0.000000   \n",
       "012JSI4XBW                   0.000000     9424.833771  24581.922477   \n",
       "012LB9SYXT                   0.000000    18736.040008      0.000000   \n",
       "012RTOSXZH               27106.957629    20428.815812  53365.830044   \n",
       "...                               ...             ...           ...   \n",
       "ZYVRG5SHD7               28672.355477    21644.188572      0.000000   \n",
       "ZYW5JUC9TM                   0.000000        0.000000  52089.596223   \n",
       "ZYWC76SJV3               23101.986068    17480.562077  45756.073064   \n",
       "ZYXABSMO0U               27629.965338        0.000000  54471.392436   \n",
       "ZYXOTLGBRA                   0.000000    19653.190652      0.000000   \n",
       "\n",
       "ProductCategory    stationery  \n",
       "CustomerId                     \n",
       "0127NRGL6D       26803.298648  \n",
       "012ILK3ZTP       31534.061726  \n",
       "012JSI4XBW           0.000000  \n",
       "012LB9SYXT           0.000000  \n",
       "012RTOSXZH       33701.507549  \n",
       "...                       ...  \n",
       "ZYVRG5SHD7       35678.481694  \n",
       "ZYW5JUC9TM       32887.168545  \n",
       "ZYWC76SJV3       28853.387937  \n",
       "ZYXABSMO0U           0.000000  \n",
       "ZYXOTLGBRA       32369.262055  \n",
       "\n",
       "[68335 rows x 15 columns]"
      ]
     },
     "execution_count": 88,
     "metadata": {},
     "output_type": "execute_result"
    }
   ],
   "source": [
    "customer_buying_category_final1"
   ]
  },
  {
   "cell_type": "markdown",
   "metadata": {},
   "source": [
    "# Recommending the top 10 Product categories(excluding the products brought) to Customers with confidence score"
   ]
  },
  {
   "cell_type": "code",
   "execution_count": 89,
   "metadata": {},
   "outputs": [
    {
     "data": {
      "text/plain": [
       "ProductCategory\n",
       "Gift Card                73800.575394\n",
       "Travel Voucher           37505.674297\n",
       "stationery               31534.061726\n",
       "Entertainment Voucher    31386.966247\n",
       "Women & Men Clothing     25291.983252\n",
       "Women Clothing           19108.332166\n",
       "Men Clothing             19091.746197\n",
       "Footwear                 18953.329783\n",
       "Bodyshop                 18881.825591\n",
       "Furniture                12971.515148\n",
       "Name: 012ILK3ZTP, dtype: float64"
      ]
     },
     "execution_count": 89,
     "metadata": {},
     "output_type": "execute_result"
    }
   ],
   "source": [
    "#Top 10 Product categories for Customer Id = 0127NRGL6D excluding the products brought\n",
    "customer_buying_category_final1.loc['012ILK3ZTP'].sort_values(ascending = False)[0:10]"
   ]
  },
  {
   "cell_type": "code",
   "execution_count": 90,
   "metadata": {},
   "outputs": [
    {
     "data": {
      "text/plain": [
       "ProductCategory\n",
       "accessories             56139.786230\n",
       "stationery              35387.534929\n",
       "Women Clothing          21488.330061\n",
       "Footwear                21339.674615\n",
       "Bodyshop                21266.503280\n",
       "Furniture               14598.618605\n",
       "Jewellery               14368.790243\n",
       "Food & Beverage          7320.746198\n",
       "Women & Men Clothing        0.000000\n",
       "Travel Voucher              0.000000\n",
       "Name: 012V8B4AFR, dtype: float64"
      ]
     },
     "execution_count": 90,
     "metadata": {},
     "output_type": "execute_result"
    }
   ],
   "source": [
    "#Top 10 Product categories for Customer Id = 012V8B4AFR  excluding the products brought\n",
    "customer_buying_category_final1.loc['012V8B4AFR'].sort_values(ascending = False)[0:10]"
   ]
  },
  {
   "cell_type": "markdown",
   "metadata": {},
   "source": [
    "# Recommending the top 10 Product categories(including the products brought) to Customers with confidence score"
   ]
  },
  {
   "cell_type": "code",
   "execution_count": 91,
   "metadata": {},
   "outputs": [],
   "source": [
    "customer_buying_category_cosine_based=df = pd.DataFrame(customer_buying_category, columns = df_train.columns, index = df_train.index)\n"
   ]
  },
  {
   "cell_type": "code",
   "execution_count": 92,
   "metadata": {},
   "outputs": [
    {
     "data": {
      "text/plain": [
       "ProductCategory\n",
       "Electronics              157327.670109\n",
       "Gift Card                 73800.575394\n",
       "accessories               56531.441124\n",
       "Travel Voucher            37505.674297\n",
       "stationery                31534.061726\n",
       "Entertainment Voucher     31386.966247\n",
       "Women & Men Clothing      25291.983252\n",
       "Women Clothing            19108.332166\n",
       "Men Clothing              19091.746197\n",
       "Footwear                  18953.329783\n",
       "Name: 012ILK3ZTP, dtype: float64"
      ]
     },
     "execution_count": 92,
     "metadata": {},
     "output_type": "execute_result"
    }
   ],
   "source": [
    "#Top 10 Product categories for Customer Id = 012ILK3ZTP  including the products brought\n",
    "customer_buying_category_cosine_based.loc['012ILK3ZTP'].sort_values(ascending = False)[0:10]"
   ]
  },
  {
   "cell_type": "code",
   "execution_count": 93,
   "metadata": {},
   "outputs": [
    {
     "data": {
      "text/plain": [
       "ProductCategory\n",
       "Electronics              165261.531254\n",
       "Gift Card                 94666.148842\n",
       "accessories               56139.786230\n",
       "Travel Voucher            43726.830904\n",
       "Entertainment Voucher     39113.421370\n",
       "stationery                35387.534929\n",
       "Women & Men Clothing      29530.251577\n",
       "Men Clothing              22256.640959\n",
       "Women Clothing            21488.330061\n",
       "Footwear                  21339.674615\n",
       "Name: 012V8B4AFR, dtype: float64"
      ]
     },
     "execution_count": 93,
     "metadata": {},
     "output_type": "execute_result"
    }
   ],
   "source": [
    "#Top 10 Product categories for Customer Id = 012V8B4AFR  including the products brought\n",
    "customer_buying_category_cosine_based.loc['012V8B4AFR'].sort_values(ascending = False)[0:10]"
   ]
  },
  {
   "cell_type": "markdown",
   "metadata": {},
   "source": [
    "# Evaluation of recommender system :"
   ]
  },
  {
   "cell_type": "markdown",
   "metadata": {},
   "source": [
    "#taking test dataset into consideration and the Products actually brought by the Customers in the testing dataset:"
   ]
  },
  {
   "cell_type": "code",
   "execution_count": 94,
   "metadata": {},
   "outputs": [
    {
     "data": {
      "text/html": [
       "<div>\n",
       "<style scoped>\n",
       "    .dataframe tbody tr th:only-of-type {\n",
       "        vertical-align: middle;\n",
       "    }\n",
       "\n",
       "    .dataframe tbody tr th {\n",
       "        vertical-align: top;\n",
       "    }\n",
       "\n",
       "    .dataframe thead th {\n",
       "        text-align: right;\n",
       "    }\n",
       "</style>\n",
       "<table border=\"1\" class=\"dataframe\">\n",
       "  <thead>\n",
       "    <tr style=\"text-align: right;\">\n",
       "      <th>ProductCategory</th>\n",
       "      <th>Bodyshop</th>\n",
       "      <th>Electronics</th>\n",
       "      <th>Entertainment Voucher</th>\n",
       "      <th>Fitness Voucher</th>\n",
       "      <th>Food &amp; Beverage</th>\n",
       "      <th>Footwear</th>\n",
       "      <th>Furniture</th>\n",
       "      <th>Gift Card</th>\n",
       "      <th>Jewellery</th>\n",
       "      <th>Men Clothing</th>\n",
       "      <th>Travel Voucher</th>\n",
       "      <th>Women &amp; Men Clothing</th>\n",
       "      <th>Women Clothing</th>\n",
       "      <th>accessories</th>\n",
       "      <th>stationery</th>\n",
       "    </tr>\n",
       "    <tr>\n",
       "      <th>CustomerId</th>\n",
       "      <th></th>\n",
       "      <th></th>\n",
       "      <th></th>\n",
       "      <th></th>\n",
       "      <th></th>\n",
       "      <th></th>\n",
       "      <th></th>\n",
       "      <th></th>\n",
       "      <th></th>\n",
       "      <th></th>\n",
       "      <th></th>\n",
       "      <th></th>\n",
       "      <th></th>\n",
       "      <th></th>\n",
       "      <th></th>\n",
       "    </tr>\n",
       "  </thead>\n",
       "  <tbody>\n",
       "    <tr>\n",
       "      <td>0127NRGL6D</td>\n",
       "      <td>0.0</td>\n",
       "      <td>2.0</td>\n",
       "      <td>0.0</td>\n",
       "      <td>0.0</td>\n",
       "      <td>0.0</td>\n",
       "      <td>2.0</td>\n",
       "      <td>1.0</td>\n",
       "      <td>3.0</td>\n",
       "      <td>0.0</td>\n",
       "      <td>0.0</td>\n",
       "      <td>0.0</td>\n",
       "      <td>0.0</td>\n",
       "      <td>1.0</td>\n",
       "      <td>0.0</td>\n",
       "      <td>0.0</td>\n",
       "    </tr>\n",
       "    <tr>\n",
       "      <td>012ILK3ZTP</td>\n",
       "      <td>0.0</td>\n",
       "      <td>2.0</td>\n",
       "      <td>0.0</td>\n",
       "      <td>0.0</td>\n",
       "      <td>0.0</td>\n",
       "      <td>0.0</td>\n",
       "      <td>0.0</td>\n",
       "      <td>1.0</td>\n",
       "      <td>0.0</td>\n",
       "      <td>0.0</td>\n",
       "      <td>0.0</td>\n",
       "      <td>0.0</td>\n",
       "      <td>1.0</td>\n",
       "      <td>2.0</td>\n",
       "      <td>1.0</td>\n",
       "    </tr>\n",
       "    <tr>\n",
       "      <td>012LB9SYXT</td>\n",
       "      <td>1.0</td>\n",
       "      <td>3.0</td>\n",
       "      <td>2.0</td>\n",
       "      <td>0.0</td>\n",
       "      <td>0.0</td>\n",
       "      <td>1.0</td>\n",
       "      <td>1.0</td>\n",
       "      <td>1.0</td>\n",
       "      <td>0.0</td>\n",
       "      <td>0.0</td>\n",
       "      <td>1.0</td>\n",
       "      <td>1.0</td>\n",
       "      <td>0.0</td>\n",
       "      <td>0.0</td>\n",
       "      <td>0.0</td>\n",
       "    </tr>\n",
       "    <tr>\n",
       "      <td>012RTOSXZH</td>\n",
       "      <td>0.0</td>\n",
       "      <td>1.0</td>\n",
       "      <td>0.0</td>\n",
       "      <td>0.0</td>\n",
       "      <td>0.0</td>\n",
       "      <td>0.0</td>\n",
       "      <td>0.0</td>\n",
       "      <td>0.0</td>\n",
       "      <td>0.0</td>\n",
       "      <td>2.0</td>\n",
       "      <td>0.0</td>\n",
       "      <td>0.0</td>\n",
       "      <td>0.0</td>\n",
       "      <td>0.0</td>\n",
       "      <td>1.0</td>\n",
       "    </tr>\n",
       "    <tr>\n",
       "      <td>012V8B4AFR</td>\n",
       "      <td>0.0</td>\n",
       "      <td>0.0</td>\n",
       "      <td>0.0</td>\n",
       "      <td>0.0</td>\n",
       "      <td>0.0</td>\n",
       "      <td>0.0</td>\n",
       "      <td>1.0</td>\n",
       "      <td>1.0</td>\n",
       "      <td>0.0</td>\n",
       "      <td>0.0</td>\n",
       "      <td>0.0</td>\n",
       "      <td>1.0</td>\n",
       "      <td>0.0</td>\n",
       "      <td>1.0</td>\n",
       "      <td>0.0</td>\n",
       "    </tr>\n",
       "  </tbody>\n",
       "</table>\n",
       "</div>"
      ],
      "text/plain": [
       "ProductCategory  Bodyshop  Electronics  Entertainment Voucher  \\\n",
       "CustomerId                                                      \n",
       "0127NRGL6D            0.0          2.0                    0.0   \n",
       "012ILK3ZTP            0.0          2.0                    0.0   \n",
       "012LB9SYXT            1.0          3.0                    2.0   \n",
       "012RTOSXZH            0.0          1.0                    0.0   \n",
       "012V8B4AFR            0.0          0.0                    0.0   \n",
       "\n",
       "ProductCategory  Fitness Voucher  Food & Beverage  Footwear  Furniture  \\\n",
       "CustomerId                                                               \n",
       "0127NRGL6D                   0.0              0.0       2.0        1.0   \n",
       "012ILK3ZTP                   0.0              0.0       0.0        0.0   \n",
       "012LB9SYXT                   0.0              0.0       1.0        1.0   \n",
       "012RTOSXZH                   0.0              0.0       0.0        0.0   \n",
       "012V8B4AFR                   0.0              0.0       0.0        1.0   \n",
       "\n",
       "ProductCategory  Gift Card  Jewellery  Men Clothing  Travel Voucher  \\\n",
       "CustomerId                                                            \n",
       "0127NRGL6D             3.0        0.0           0.0             0.0   \n",
       "012ILK3ZTP             1.0        0.0           0.0             0.0   \n",
       "012LB9SYXT             1.0        0.0           0.0             1.0   \n",
       "012RTOSXZH             0.0        0.0           2.0             0.0   \n",
       "012V8B4AFR             1.0        0.0           0.0             0.0   \n",
       "\n",
       "ProductCategory  Women & Men Clothing  Women Clothing  accessories  stationery  \n",
       "CustomerId                                                                      \n",
       "0127NRGL6D                        0.0             1.0          0.0         0.0  \n",
       "012ILK3ZTP                        0.0             1.0          2.0         1.0  \n",
       "012LB9SYXT                        1.0             0.0          0.0         0.0  \n",
       "012RTOSXZH                        0.0             0.0          0.0         1.0  \n",
       "012V8B4AFR                        1.0             0.0          1.0         0.0  "
      ]
     },
     "execution_count": 94,
     "metadata": {},
     "output_type": "execute_result"
    }
   ],
   "source": [
    "df_test.head()"
   ]
  },
  {
   "cell_type": "code",
   "execution_count": 95,
   "metadata": {},
   "outputs": [
    {
     "data": {
      "text/plain": [
       "(66147, 15)"
      ]
     },
     "execution_count": 95,
     "metadata": {},
     "output_type": "execute_result"
    }
   ],
   "source": [
    "df_test.shape"
   ]
  },
  {
   "cell_type": "code",
   "execution_count": 96,
   "metadata": {},
   "outputs": [
    {
     "name": "stderr",
     "output_type": "stream",
     "text": [
      "C:\\Python27\\lib\\site-packages\\sklearn\\metrics\\pairwise.py:56: DeprecationWarning: `np.float` is a deprecated alias for the builtin `float`. To silence this warning, use `float` by itself. Doing this will not modify any behavior and is safe. If you specifically wanted the numpy scalar type, use `np.float64` here.\n",
      "Deprecated in NumPy 1.20; for more details and guidance: https://numpy.org/devdocs/release/1.20.0-notes.html#deprecations\n",
      "  dtype = np.float\n"
     ]
    },
    {
     "name": "stdout",
     "output_type": "stream",
     "text": [
      "[[1.         0.55337157 0.63157895 ... 0.         0.72333935 0.78039897]\n",
      " [0.55337157 1.         0.48420012 ... 0.         0.58501794 0.56980288]\n",
      " [0.63157895 0.48420012 1.         ... 0.         0.55641488 0.69368798]\n",
      " ...\n",
      " [0.         0.         0.         ... 1.         0.         0.        ]\n",
      " [0.72333935 0.58501794 0.55641488 ... 0.         1.         0.82502865]\n",
      " [0.78039897 0.56980288 0.69368798 ... 0.         0.82502865 1.        ]]\n",
      "(66147, 66147)\n"
     ]
    }
   ],
   "source": [
    "from sklearn.metrics.pairwise import cosine_similarity\n",
    "\n",
    "# customer Similarity Matrix using Cosine similarity as a similarity measure between Customers buying pattern\n",
    "test_customer_similarity = cosine_similarity(df_test)\n",
    "test_customer_similarity[np.isnan(test_customer_similarity)] = 0\n",
    "print(test_customer_similarity)\n",
    "print(test_customer_similarity.shape)"
   ]
  },
  {
   "cell_type": "code",
   "execution_count": 97,
   "metadata": {},
   "outputs": [
    {
     "data": {
      "text/plain": [
       "array([[ 5923.09530767, 50419.42194129,  9733.06489334, ...,\n",
       "         6961.39763652, 15241.18543814,  9731.20635254],\n",
       "       [ 6801.3821043 , 60178.0234138 , 11186.25485812, ...,\n",
       "         8180.27497107, 24514.01523811, 13436.8989585 ],\n",
       "       [ 7923.88965854, 62655.28105393, 14673.29069981, ...,\n",
       "         6864.86404422, 17638.94920378, 11247.45827421],\n",
       "       ...,\n",
       "       [  615.54479292,  3899.34792915,  1042.14841208, ...,\n",
       "          619.2541103 ,  1581.17255226,  1005.42258655],\n",
       "       [ 6220.90902971, 53093.32510334, 10219.69193604, ...,\n",
       "         7315.1988748 , 15995.72107007, 12028.55872111],\n",
       "       [ 6514.05546476, 62394.27800668, 10676.54932446, ...,\n",
       "         6502.92613709, 16752.75816238, 10696.80347003]])"
      ]
     },
     "execution_count": 97,
     "metadata": {},
     "output_type": "execute_result"
    }
   ],
   "source": [
    "test_customer_buying_category = np.dot(test_customer_similarity,df_test )\n",
    "test_customer_buying_category"
   ]
  },
  {
   "cell_type": "code",
   "execution_count": 98,
   "metadata": {},
   "outputs": [],
   "source": [
    "df_test_notbroughtProducts=np.where(df_test_notbroughtProducts ==0 , 0, 1)"
   ]
  },
  {
   "cell_type": "code",
   "execution_count": 99,
   "metadata": {},
   "outputs": [
    {
     "data": {
      "text/plain": [
       "array([[    0.        , 50419.42194129,     0.        , ...,\n",
       "         6961.39763652,     0.        ,     0.        ],\n",
       "       [    0.        , 60178.0234138 ,     0.        , ...,\n",
       "         8180.27497107, 24514.01523811, 13436.8989585 ],\n",
       "       [ 7923.88965854, 62655.28105393, 14673.29069981, ...,\n",
       "            0.        ,     0.        ,     0.        ],\n",
       "       ...,\n",
       "       [    0.        ,     0.        ,     0.        , ...,\n",
       "            0.        ,     0.        ,     0.        ],\n",
       "       [    0.        , 53093.32510334,     0.        , ...,\n",
       "         7315.1988748 ,     0.        , 12028.55872111],\n",
       "       [    0.        , 62394.27800668,     0.        , ...,\n",
       "            0.        ,     0.        ,     0.        ]])"
      ]
     },
     "execution_count": 99,
     "metadata": {},
     "output_type": "execute_result"
    }
   ],
   "source": [
    "test_customer_buying_category_final = np.multiply(test_customer_buying_category, df_test_notbroughtProducts)\n",
    "test_customer_buying_category_final"
   ]
  },
  {
   "cell_type": "code",
   "execution_count": 100,
   "metadata": {},
   "outputs": [],
   "source": [
    "test_customer_buying_category_final1= pd.DataFrame(test_customer_buying_category_final, columns = df_test.columns, index = df_test.index)\n"
   ]
  },
  {
   "cell_type": "code",
   "execution_count": 101,
   "metadata": {},
   "outputs": [
    {
     "name": "stdout",
     "output_type": "stream",
     "text": [
      "[[       nan 2.97571585        nan ... 3.27996879        nan        nan]\n",
      " [       nan 3.84892343        nan ... 4.13707161 4.65176889 4.03571065]\n",
      " [3.92314264 4.07059046 4.50239736 ...        nan        nan        nan]\n",
      " ...\n",
      " [       nan        nan        nan ...        nan        nan        nan]\n",
      " [       nan 3.21497888        nan ... 3.52875842        nan 3.45305831]\n",
      " [       nan 4.04723569        nan ...        nan        nan        nan]]\n"
     ]
    }
   ],
   "source": [
    "from sklearn.preprocessing import MinMaxScaler\n",
    "\n",
    "X = test_customer_buying_category_final1.copy() \n",
    "X = X[X > 0] # only consider non-zero values as 0 means the customer haven't brought the product category\n",
    "\n",
    "scaler = MinMaxScaler(feature_range = (0.5, 5))\n",
    "scaler.fit(X)\n",
    "pred = scaler.transform(X)\n",
    "\n",
    "print(pred)"
   ]
  },
  {
   "cell_type": "code",
   "execution_count": 102,
   "metadata": {},
   "outputs": [
    {
     "data": {
      "text/plain": [
       "262160"
      ]
     },
     "execution_count": 102,
     "metadata": {},
     "output_type": "execute_result"
    }
   ],
   "source": [
    "# total non-NaN value\n",
    "total_non_nan = np.count_nonzero(~np.isnan(pred))\n",
    "total_non_nan\n"
   ]
  },
  {
   "cell_type": "code",
   "execution_count": 103,
   "metadata": {},
   "outputs": [
    {
     "name": "stdout",
     "output_type": "stream",
     "text": [
      "2.2099473604575923\n"
     ]
    }
   ],
   "source": [
    "# RMSE Score\n",
    "\n",
    "diff_sqr_matrix = (df_test - pred)**2\n",
    "sum_of_squares_err = diff_sqr_matrix.sum().sum() # df.sum().sum() by default ignores null values\n",
    "\n",
    "rmse = np.sqrt(sum_of_squares_err/total_non_nan)\n",
    "print(rmse)"
   ]
  },
  {
   "cell_type": "code",
   "execution_count": 104,
   "metadata": {},
   "outputs": [
    {
     "name": "stdout",
     "output_type": "stream",
     "text": [
      "2.045674597695514\n"
     ]
    }
   ],
   "source": [
    "# Mean abslute error\n",
    "\n",
    "mae = np.abs(pred - df_test).sum().sum()/total_non_nan\n",
    "print(mae)"
   ]
  },
  {
   "cell_type": "code",
   "execution_count": null,
   "metadata": {},
   "outputs": [],
   "source": []
  }
 ],
 "metadata": {
  "kernelspec": {
   "display_name": "Python 3",
   "language": "python",
   "name": "python3"
  },
  "language_info": {
   "codemirror_mode": {
    "name": "ipython",
    "version": 3
   },
   "file_extension": ".py",
   "mimetype": "text/x-python",
   "name": "python",
   "nbconvert_exporter": "python",
   "pygments_lexer": "ipython3",
   "version": "3.7.4"
  }
 },
 "nbformat": 4,
 "nbformat_minor": 2
}
